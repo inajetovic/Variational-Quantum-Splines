{
 "cells": [
  {
   "cell_type": "code",
   "execution_count": 5,
   "metadata": {},
   "outputs": [],
   "source": [
    "import matplotlib.pyplot as plt\n",
    "import seaborn as sns\n",
    "import pandas as pd\n",
    "import numpy as np \n",
    "from vqls import *\n",
    "from utils import *\n"
   ]
  },
  {
   "cell_type": "code",
   "execution_count": 11,
   "metadata": {},
   "outputs": [
    {
     "name": "stdout",
     "output_type": "stream",
     "text": [
      "results/results_gvqs_sigmoid_3.json\n",
      "results/results_gvqs_sigmoid_4.json\n",
      "results/results_gvqs_tanh_3.json\n",
      "results/results_gvqs_tanh_4.json\n",
      "results/results_gvqs_elu_3.json\n",
      "results/results_gvqs_elu_4.json\n",
      "results/results_gvqs_relu_3.json\n",
      "results/results_gvqs_relu_4.json\n",
      "results/results_gvqs_sin_3.json\n",
      "results/results_gvqs_sin_4.json\n"
     ]
    }
   ],
   "source": [
    "func_out = {'sigmoid': sigmoid_t,'tanh': tanh_t,'elu': elu_t, 'relu': relu_t, 'sin':sin_m}\n",
    "func_list = list(func_out.keys())\n",
    "func_dict = {'sigmoid': .0,'tanh': 1.0,'elu':.12, 'relu':.0, 'sin':2}\n",
    "\n",
    "pnq = {'3':(3,8),\n",
    "        '4':(4,16)}\n",
    "columns=['function', 'nq', 'knot', 'training cost', 'time(s)', 'weights', 'RSS_h', 'RSS_q' ]\n",
    "tot = {}\n",
    "for flab, fun in func_out.items():\n",
    "    for nq, knot in  pnq.values():\n",
    "        file_path = f\"results/results_gvqs_{flab}_{nq}.json\"\n",
    "        df = pd.read_json(file_path).drop(['Condition number', 'norm(yk)', 'training_cost', 'exe_time','RSS_h'], axis =1 )\n",
    "        tmp = []\n",
    "        for el in df[\"in_train_weights\"]:\n",
    "             tmp.append(el[-1])\n",
    "        df[\"weights\"] = tmp\n",
    "        df = df.drop([\"in_train_weights\"], axis = 1)\n",
    "        tot[f\"{flab}{nq}\"] = df "
   ]
  },
  {
   "cell_type": "code",
   "execution_count": 12,
   "metadata": {},
   "outputs": [],
   "source": [
    "rss=[]\n",
    "for flab, fun in func_out.items():\n",
    "    for nq in [3,4]:\n",
    "        dl = tot[f\"{flab}{nq}\"]\n",
    "        rmse_scal = []\n",
    "        rmse_yc = []\n",
    "        for i, el in dl.iterrows():\n",
    "            \n",
    "            lower = 0.\n",
    "            upper = 1.\n",
    "\n",
    "            f_i = func_dict[flab]\n",
    "            scaled=False    \n",
    "            label = flab\n",
    "            n_step = pnq[f\"{nq}\"][1]\n",
    "            x = np.arange(lower, upper + .03, (upper-lower)/n_step).tolist() \n",
    "            xx = np.linspace(lower, upper, n_step) ##inputs sampling in the interval 0,1\n",
    "            y = [fun(value,f_i) for value in xx]\n",
    "\n",
    "            #tck=splrep(x,y,k=1) #coeffs\n",
    "            norm = np.linalg.norm(y)\n",
    "            y = y / norm\n",
    "            matrix,vector,v_norm = GeneralizedVQS_System(n_step,label,x,xx,scaled=scaled)\n",
    "\n",
    "            vqls_circuit = VQLS(matrix,v_norm,nq,opt='COBYLA') \n",
    "\n",
    "            c = np.linalg.solve(matrix,vector)\n",
    "\n",
    "            y_c=np.dot(matrix,c) #classic\n",
    "\n",
    "            y_fq=[]\n",
    "            q = vqls_circuit.solution(el['weights']).real\n",
    "            y_q=np.dot(matrix,q) #hybrid\n",
    "                            #Quantum\n",
    "\n",
    "            for a in matrix:\n",
    "                y_fq.append(vqls_circuit.direct_prod2(el['weights'],a))\n",
    "            rmse_yc.append(math.sqrt(np.square(np.subtract(y_c,y_fq)).mean()))\n",
    "            rmse_scal.append(math.sqrt(np.square(np.subtract(y,y_fq)).mean()))\n",
    "        dl[\"rmse_scal\"] = rmse_scal\n",
    "        dl[\"rmse_yc\"] = rmse_yc\n"
   ]
  },
  {
   "cell_type": "code",
   "execution_count": 17,
   "metadata": {},
   "outputs": [
    {
     "data": {
      "text/plain": [
       "dict_keys(['sigmoid3', 'sigmoid4', 'tanh3', 'tanh4', 'elu3', 'elu4', 'relu3', 'relu4', 'sin3', 'sin4'])"
      ]
     },
     "execution_count": 17,
     "metadata": {},
     "output_type": "execute_result"
    }
   ],
   "source": [
    "tot.keys()"
   ]
  },
  {
   "cell_type": "code",
   "execution_count": 23,
   "metadata": {},
   "outputs": [
    {
     "name": "stdout",
     "output_type": "stream",
     "text": [
      "|       |   rmse_yc |    RSS_q |\n",
      "|:------|----------:|---------:|\n",
      "| (12,) |  0.183223 | 0.268566 |\n",
      "| (22,) |  0.18553  | 0.275371 |\n",
      "| (11,) |  0.185691 | 0.275849 |\n",
      "| (3,)  |  0.185943 | 0.276599 |\n",
      "| (23,) |  0.698045 | 3.89813  |\n",
      "| (6,)  |  0.702102 | 3.94358  |\n",
      "| (17,) |  0.702309 | 3.9459   |\n",
      "| (13,) |  0.702592 | 3.94908  |\n",
      "| (18,) |  0.703671 | 3.96122  |\n",
      "| (0,)  |  0.703877 | 3.96354  |\n",
      "| (8,)  |  0.704963 | 3.97578  |\n",
      "| (10,) |  0.706013 | 3.98764  |\n",
      "| (9,)  |  0.715782 | 4.09875  |\n",
      "| (19,) |  0.719192 | 4.1379   |\n",
      "| (4,)  |  0.719874 | 4.14575  |\n",
      "| (20,) |  0.719874 | 4.14575  |\n",
      "| (14,) |  0.721589 | 4.16553  |\n",
      "| (15,) |  0.725029 | 4.20533  |\n",
      "| (7,)  |  0.738071 | 4.35799  |\n",
      "| (5,)  |  1.08453  | 9.40971  |\n",
      "| (21,) |  1.08523  | 9.42185  |\n",
      "| (2,)  |  1.08552  | 9.42683  |\n",
      "| (1,)  |  1.08588  | 9.43312  |\n",
      "| (16,) |  1.08667  | 9.44684  |\n",
      "| (24,) |  1.08667  | 9.44684  |\n"
     ]
    }
   ],
   "source": [
    "dk= tot[\"sigmoid3\"]\n",
    "#dk['RSS_q'] = dk['RSS_q']/dk['knot']\n",
    "print(dk.pivot( columns = [], values=['rmse_yc','RSS_q']).sort_values([\"rmse_yc\"]).to_markdown())"
   ]
  },
  {
   "cell_type": "code",
   "execution_count": 45,
   "metadata": {},
   "outputs": [
    {
     "data": {
      "text/plain": [
       "0.2765988787"
      ]
     },
     "execution_count": 45,
     "metadata": {},
     "output_type": "execute_result"
    }
   ],
   "source": [
    "flab = \"sigmoid\"\n",
    "nq = 3\n",
    "dl = tot[f\"{flab}{nq}\"]\n",
    "dl[\"RSS_q\"][3]\n"
   ]
  },
  {
   "cell_type": "code",
   "execution_count": 48,
   "metadata": {},
   "outputs": [],
   "source": [
    "rss=[]\n",
    "res = {}\n",
    "\n",
    "for flab, fun in func_out.items():\n",
    "    funres = {}\n",
    "    # vqs results\n",
    "    for stp in [20,40]:\n",
    "        nq = 1\n",
    "        file_path = f\"results/results_vqs_{flab}_{nq}_{stp}.json\"\n",
    "        dl = pd.read_json(file_path).drop([\"exe_time\",\"weights\", \"training_cost\", \"seed\"], axis = 1)\n",
    "\n",
    "        funres[f\"vqs_{stp}\"]= {\"rmse\":np.min(dl[\"rmse\"]), \"index\": np.argmin(dl[\"rmse\"]), \"RSS\": dl[\"RSS_q\"][np.argmin(dl[\"rmse\"])] }\n",
    "\n",
    "\n",
    "    # gvqs results\n",
    "    for nq in [3,4]:\n",
    "        dl = tot[f\"{flab}{nq}\"]\n",
    "        rmse_scal = []\n",
    "        rmse_yc = []\n",
    "        lower = 0.\n",
    "        upper = 1.\n",
    "        for i, el in dl.iterrows():\n",
    "            \n",
    "\n",
    "            f_i = func_dict[flab]\n",
    "            scaled=False    \n",
    "            label = flab\n",
    "            n_step = pnq[f\"{nq}\"][1]\n",
    "            x = np.arange(lower, upper + .03, (upper-lower)/n_step).tolist() \n",
    "            xx = np.linspace(lower, upper, n_step) ##inputs sampling in the interval 0,1\n",
    "\n",
    "            #tck=splrep(x,y,k=1) #coeffs\n",
    "            matrix,vector,v_norm = GeneralizedVQS_System(n_step,label,x,xx,scaled=scaled)\n",
    "\n",
    "            vqls_circuit = VQLS(matrix,v_norm,nq,opt='COBYLA') \n",
    "\n",
    "            c = np.linalg.solve(matrix,vector)\n",
    "\n",
    "            y_c=np.dot(matrix,c) #classic\n",
    "\n",
    "            y_fq=[]\n",
    "            q = vqls_circuit.solution(el['weights']).real\n",
    "            y_q=np.dot(matrix,q) #hybrid\n",
    "                            #Quantum\n",
    "\n",
    "            for a in matrix:\n",
    "                y_fq.append(vqls_circuit.direct_prod2(el['weights'],a))\n",
    "            rmse_yc.append(math.sqrt(np.square(np.subtract(y_c,y_fq)).mean()))\n",
    "        funres[f\"gvqs_{nq}\"]= {\"rmse\":np.min(rmse_yc), \"index\": np.argmin(rmse_yc), \"RSS\": dl[\"RSS_q\"][np.argmin(rmse_yc)] }\n",
    "    res[flab] = funres\n"
   ]
  },
  {
   "cell_type": "code",
   "execution_count": 50,
   "metadata": {},
   "outputs": [
    {
     "data": {
      "text/plain": [
       "{'vqs_20': {'rmse': 0.2898510146, 'index': 4, 'RSS': 3.3605444271},\n",
       " 'vqs_40': {'rmse': 0.29246201850000003,\n",
       "  'index': 0,\n",
       "  'RSS': 6.8427225829000005},\n",
       " 'gvqs_3': {'rmse': 0.22396438450233014, 'index': 5, 'RSS': 0.4012803642},\n",
       " 'gvqs_4': {'rmse': 0.31198818624321956,\n",
       "  'index': 4,\n",
       "  'RSS': 1.5573860537000002}}"
      ]
     },
     "execution_count": 50,
     "metadata": {},
     "output_type": "execute_result"
    }
   ],
   "source": [
    "res[\"sin\"]"
   ]
  }
 ],
 "metadata": {
  "kernelspec": {
   "display_name": "Python 3.8.15 ('phd')",
   "language": "python",
   "name": "python3"
  },
  "language_info": {
   "codemirror_mode": {
    "name": "ipython",
    "version": 3
   },
   "file_extension": ".py",
   "mimetype": "text/x-python",
   "name": "python",
   "nbconvert_exporter": "python",
   "pygments_lexer": "ipython3",
   "version": "3.8.15"
  },
  "orig_nbformat": 4,
  "vscode": {
   "interpreter": {
    "hash": "907592e22d0f33952c262e5486f28a29c9de9426e750b7b468fd79b101dfb94f"
   }
  }
 },
 "nbformat": 4,
 "nbformat_minor": 2
}
