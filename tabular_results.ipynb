{
 "cells": [
  {
   "cell_type": "code",
   "execution_count": 1,
   "metadata": {},
   "outputs": [],
   "source": [
    "import matplotlib.pyplot as plt\n",
    "import seaborn as sns\n",
    "import pandas as pd\n",
    "import numpy as np \n",
    "from vqls import *\n",
    "from utils import *\n"
   ]
  },
  {
   "cell_type": "code",
   "execution_count": 2,
   "metadata": {},
   "outputs": [],
   "source": [
    "func_out = {'sigmoid': sigmoid_t,'tanh': tanh_t,'elu': elu_t, 'relu': relu_t, 'sin':sin_m}\n",
    "func_list = list(func_out.keys())\n",
    "func_dict = {'sigmoid': .0,'tanh': 1.0,'elu':.12, 'relu':.0, 'sin':2}\n",
    "\n",
    "pnq = {'3':(3,8),\n",
    "        '4':(4,16)}\n",
    "columns=['function', 'nq', 'knot', 'training cost', 'time(s)', 'weights', 'RSS_h', 'RSS_q' ]\n",
    "tot = {}\n",
    "for flab, fun in func_out.items():\n",
    "    for nq, knot in  pnq.values():\n",
    "        file_path = f\"results/results_gvqs_{flab}_{nq}.json\"\n",
    "        df = pd.read_json(file_path).drop(['Condition number', 'norm(yk)', 'training_cost', 'exe_time','RSS_h'], axis =1 )\n",
    "        tmp = []\n",
    "        for el in df[\"in_train_weights\"]:\n",
    "             tmp.append(el[-1])\n",
    "        df[\"weights\"] = tmp\n",
    "        df = df.drop([\"in_train_weights\"], axis = 1)\n",
    "        tot[f\"{flab}{nq}\"] = df "
   ]
  },
  {
   "cell_type": "code",
   "execution_count": 3,
   "metadata": {},
   "outputs": [],
   "source": [
    "rss=[]\n",
    "for flab, fun in func_out.items():\n",
    "    for nq in [3,4]:\n",
    "        dl = tot[f\"{flab}{nq}\"]\n",
    "        rmse_scal = []\n",
    "        rmse_yc = []\n",
    "        for i, el in dl.iterrows():\n",
    "            \n",
    "            lower = 0.\n",
    "            upper = 1.\n",
    "\n",
    "            f_i = func_dict[flab]\n",
    "            scaled=False    \n",
    "            label = flab\n",
    "            n_step = pnq[f\"{nq}\"][1]\n",
    "            x = np.arange(lower, upper + .03, (upper-lower)/n_step).tolist() \n",
    "            xx = np.linspace(lower, upper, n_step) ##inputs sampling in the interval 0,1\n",
    "            y = [fun(value,f_i) for value in xx]\n",
    "\n",
    "            #tck=splrep(x,y,k=1) #coeffs\n",
    "            norm = np.linalg.norm(y)\n",
    "            y = y / norm\n",
    "            matrix,vector,v_norm = GeneralizedVQS_System(n_step,label,x,xx,scaled=scaled)\n",
    "\n",
    "            vqls_circuit = VQLS(matrix,v_norm,nq,opt='COBYLA') \n",
    "\n",
    "            c = np.linalg.solve(matrix,vector)\n",
    "\n",
    "            y_c=np.dot(matrix,c) #classic\n",
    "\n",
    "            y_fq=[]\n",
    "            q = vqls_circuit.solution(el['weights']).real\n",
    "            y_q=np.dot(matrix,q) #hybrid\n",
    "                            #Quantum\n",
    "\n",
    "            for a in matrix:\n",
    "                y_fq.append(vqls_circuit.direct_prod2(el['weights'],a))\n",
    "            rmse_yc.append(math.sqrt(np.square(np.subtract(y_c,y_fq)).mean()))\n",
    "            rmse_scal.append(math.sqrt(np.square(np.subtract(y,y_fq)).mean()))\n",
    "        dl[\"rmse_scal\"] = rmse_scal\n",
    "        dl[\"rmse_yc\"] = rmse_yc\n"
   ]
  },
  {
   "cell_type": "code",
   "execution_count": 4,
   "metadata": {},
   "outputs": [
    {
     "data": {
      "text/plain": [
       "dict_keys(['sigmoid3', 'sigmoid4', 'tanh3', 'tanh4', 'elu3', 'elu4', 'relu3', 'relu4', 'sin3', 'sin4'])"
      ]
     },
     "execution_count": 4,
     "metadata": {},
     "output_type": "execute_result"
    }
   ],
   "source": [
    "tot.keys()"
   ]
  },
  {
   "cell_type": "code",
   "execution_count": 5,
   "metadata": {},
   "outputs": [
    {
     "name": "stdout",
     "output_type": "stream",
     "text": [
      "|       |   rmse_yc |    RSS_q |\n",
      "|:------|----------:|---------:|\n",
      "| (12,) |  0.183223 | 0.268566 |\n",
      "| (22,) |  0.18553  | 0.275371 |\n",
      "| (11,) |  0.185691 | 0.275849 |\n",
      "| (3,)  |  0.185943 | 0.276599 |\n",
      "| (23,) |  0.698045 | 3.89813  |\n",
      "| (6,)  |  0.702102 | 3.94358  |\n",
      "| (17,) |  0.702309 | 3.9459   |\n",
      "| (13,) |  0.702592 | 3.94908  |\n",
      "| (18,) |  0.703671 | 3.96122  |\n",
      "| (0,)  |  0.703877 | 3.96354  |\n",
      "| (8,)  |  0.704963 | 3.97578  |\n",
      "| (10,) |  0.706013 | 3.98764  |\n",
      "| (9,)  |  0.715782 | 4.09875  |\n",
      "| (19,) |  0.719192 | 4.1379   |\n",
      "| (4,)  |  0.719874 | 4.14575  |\n",
      "| (20,) |  0.719874 | 4.14575  |\n",
      "| (14,) |  0.721589 | 4.16553  |\n",
      "| (15,) |  0.725029 | 4.20533  |\n",
      "| (7,)  |  0.738071 | 4.35799  |\n",
      "| (5,)  |  1.08453  | 9.40971  |\n",
      "| (21,) |  1.08523  | 9.42185  |\n",
      "| (2,)  |  1.08552  | 9.42683  |\n",
      "| (1,)  |  1.08588  | 9.43312  |\n",
      "| (16,) |  1.08667  | 9.44684  |\n",
      "| (24,) |  1.08667  | 9.44684  |\n"
     ]
    }
   ],
   "source": [
    "dk= tot[\"sigmoid3\"]\n",
    "#dk['RSS_q'] = dk['RSS_q']/dk['knot']\n",
    "print(dk.pivot( columns = [], values=['rmse_yc','RSS_q']).sort_values([\"rmse_yc\"]).to_markdown())"
   ]
  },
  {
   "cell_type": "code",
   "execution_count": 6,
   "metadata": {},
   "outputs": [
    {
     "data": {
      "text/plain": [
       "0.2765988787"
      ]
     },
     "execution_count": 6,
     "metadata": {},
     "output_type": "execute_result"
    }
   ],
   "source": [
    "flab = \"sigmoid\"\n",
    "nq = 3\n",
    "dl = tot[f\"{flab}{nq}\"]\n",
    "dl[\"RSS_q\"][3]\n"
   ]
  },
  {
   "cell_type": "code",
   "execution_count": 23,
   "metadata": {},
   "outputs": [],
   "source": [
    "rss=[]\n",
    "res = {}\n",
    "\n",
    "for flab, fun in func_out.items():\n",
    "    funres = {}\n",
    "    # vqs results\n",
    "    for stp in [20,40]:\n",
    "        nq = 1\n",
    "        file_path = f\"results/results_vqs_{flab}_{nq}_{stp}.json\"\n",
    "        dl = pd.read_json(file_path).drop([\"exe_time\",\"weights\", \"training_cost\", \"seed\"], axis = 1)\n",
    "\n",
    "        funres[f\"vqs_{stp}\"]= {\"rmse\":np.min(dl[\"rmse\"]), \"index\": np.argmin(dl[\"rmse\"]), \"RSS\": dl[\"RSS_q\"][np.argmin(dl[\"rmse\"])] }\n",
    "\n",
    "\n",
    "    # gvqs results\n",
    "    for nq in [3,4]:\n",
    "        dl = tot[f\"{flab}{nq}\"]\n",
    "        rmse_scal = []\n",
    "        rmse_yc = []\n",
    "        lower = 0.\n",
    "        upper = 1.\n",
    "        for i, el in dl.iterrows():\n",
    "            \n",
    "\n",
    "            f_i = func_dict[flab]\n",
    "            scaled=False    \n",
    "            label = flab\n",
    "            n_step = pnq[f\"{nq}\"][1]\n",
    "            x = np.arange(lower, upper + .03, (upper-lower)/n_step).tolist() \n",
    "            xx = np.linspace(lower, upper, n_step) ##inputs sampling in the interval 0,1\n",
    "\n",
    "            #tck=splrep(x,y,k=1) #coeffs\n",
    "            matrix,vector,v_norm = GeneralizedVQS_System(n_step,label,x,xx,scaled=scaled)\n",
    "\n",
    "            vqls_circuit = VQLS(matrix,v_norm,nq,opt='COBYLA') \n",
    "\n",
    "            c = np.linalg.solve(matrix,vector)\n",
    "\n",
    "            y_c=np.dot(matrix,c) /np.linalg.norm(vector)#classic\n",
    "            \n",
    "            y_fq=[]\n",
    "            for a in matrix:\n",
    "                y_fq.append(vqls_circuit.direct_prod2(el['weights'],a))\n",
    "            rmse_yc.append(math.sqrt(np.square(np.subtract(v_norm,np.abs(y_fq))).mean()))\n",
    "        funres[f\"gvqs_{nq}\"]= {\"rmse\":np.min(rmse_yc), \"index\": np.argmin(rmse_yc), \"RSS\": dl[\"RSS_q\"][np.argmin(rmse_yc)] }\n",
    "    res[flab] = funres\n"
   ]
  },
  {
   "cell_type": "code",
   "execution_count": 26,
   "metadata": {},
   "outputs": [
    {
     "name": "stdout",
     "output_type": "stream",
     "text": [
      "\n",
      "===============  sigmoid  ===============\n",
      "\\begin{tabular}{lrrr}\n",
      "\\hline\n",
      "        &   rmse &   index &     RSS \\\\\n",
      "\\hline\n",
      " vqs\\_20 & 0.0868 &  3.0000 &  0.3011 \\\\\n",
      " vqs\\_40 & 0.0872 &  5.0000 &  0.6086 \\\\\n",
      " gvqs\\_3 & 0.1212 & 16.0000 &  9.4468 \\\\\n",
      " gvqs\\_4 & 0.0753 &  3.0000 & 14.0297 \\\\\n",
      "\\hline\n",
      "\\end{tabular}\n",
      "\n",
      "===============  tanh  ===============\n",
      "\\begin{tabular}{lrrr}\n",
      "\\hline\n",
      "        &   rmse &   index &     RSS \\\\\n",
      "\\hline\n",
      " vqs\\_20 & 0.2135 & 17.0000 &  1.8230 \\\\\n",
      " vqs\\_40 & 0.2042 &  6.0000 &  3.3360 \\\\\n",
      " gvqs\\_3 & 0.1184 & 10.0000 &  8.4393 \\\\\n",
      " gvqs\\_4 & 0.0729 &  2.0000 & 12.3363 \\\\\n",
      "\\hline\n",
      "\\end{tabular}\n",
      "\n",
      "===============  elu  ===============\n",
      "\\begin{tabular}{lrrr}\n",
      "\\hline\n",
      "        &   rmse &   index &    RSS \\\\\n",
      "\\hline\n",
      " vqs\\_20 & 0.1543 &  1.0000 & 0.9519 \\\\\n",
      " vqs\\_40 & 0.1582 &  4.0000 & 2.0013 \\\\\n",
      " gvqs\\_3 & 0.1399 &  4.0000 & 5.7686 \\\\\n",
      " gvqs\\_4 & 0.0774 &  9.0000 & 0.0722 \\\\\n",
      "\\hline\n",
      "\\end{tabular}\n",
      "\n",
      "===============  relu  ===============\n",
      "\\begin{tabular}{lrrr}\n",
      "\\hline\n",
      "        &   rmse &   index &    RSS \\\\\n",
      "\\hline\n",
      " vqs\\_20 & 0.0935 & 24.0000 & 0.3499 \\\\\n",
      " vqs\\_40 & 0.0879 &  1.0000 & 0.6177 \\\\\n",
      " gvqs\\_3 & 0.1543 & 13.0000 & 0.3762 \\\\\n",
      " gvqs\\_4 & 0.0783 &  0.0000 & 5.3298 \\\\\n",
      "\\hline\n",
      "\\end{tabular}\n",
      "\n",
      "===============  sin  ===============\n",
      "\\begin{tabular}{lrrr}\n",
      "\\hline\n",
      "        &   rmse &   index &     RSS \\\\\n",
      "\\hline\n",
      " vqs\\_20 & 0.2899 &  4.0000 &  3.3605 \\\\\n",
      " vqs\\_40 & 0.2925 &  0.0000 &  6.8427 \\\\\n",
      " gvqs\\_3 & 0.0944 &  4.0000 &  8.0700 \\\\\n",
      " gvqs\\_4 & 0.0626 &  0.0000 & 13.0598 \\\\\n",
      "\\hline\n",
      "\\end{tabular}\n"
     ]
    }
   ],
   "source": [
    "for key in res.keys():\n",
    "    print('\\n' + '='*15 + '  ' +key+ '  ' + '='*15)\n",
    "    print(pd.DataFrame(res[key]).T.to_markdown(tablefmt= 'latex', floatfmt=\".4f\"))\n"
   ]
  },
  {
   "cell_type": "code",
   "execution_count": null,
   "metadata": {},
   "outputs": [],
   "source": []
  }
 ],
 "metadata": {
  "kernelspec": {
   "display_name": "Python 3.8.15 ('phd')",
   "language": "python",
   "name": "python3"
  },
  "language_info": {
   "codemirror_mode": {
    "name": "ipython",
    "version": 3
   },
   "file_extension": ".py",
   "mimetype": "text/x-python",
   "name": "python",
   "nbconvert_exporter": "python",
   "pygments_lexer": "ipython3",
   "version": "3.9.15"
  },
  "orig_nbformat": 4,
  "vscode": {
   "interpreter": {
    "hash": "907592e22d0f33952c262e5486f28a29c9de9426e750b7b468fd79b101dfb94f"
   }
  }
 },
 "nbformat": 4,
 "nbformat_minor": 2
}
