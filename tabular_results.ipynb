{
 "cells": [
  {
   "cell_type": "code",
   "execution_count": 1,
   "metadata": {},
   "outputs": [],
   "source": [
    "import matplotlib.pyplot as plt\n",
    "import seaborn as sns\n",
    "import pandas as pd\n",
    "import numpy as np \n",
    "from vqls import *\n",
    "from utils import *\n"
   ]
  },
  {
   "cell_type": "code",
   "execution_count": 2,
   "metadata": {},
   "outputs": [],
   "source": [
    "func_out = {'sigmoid': sigmoid_t,'tanh': tanh_t,'elu': elu_t, 'relu': relu_t, 'sin':sin_m}\n",
    "func_list = list(func_out.keys())\n",
    "func_dict = {'sigmoid': .0,'tanh': 1.0,'elu':.12, 'relu':.0, 'sin':.0}\n",
    "\n",
    "pnq = {'3':(3,8),\n",
    "        '4':(4,16)}\n",
    "columns=['function', 'nq', 'knot', 'training cost', 'time(s)', 'weights', 'RSS_h', 'RSS_q' ]\n",
    "tot = {}\n",
    "for flab, fun in func_out.items():\n",
    "    for nq, knot in  pnq.values():\n",
    "        file_path = f\"results_{flab}_{nq}.json\"\n",
    "        df = pd.read_json(file_path).drop(['Condition number', 'norm(yk)', 'training_cost', 'exe_time','RSS_h'], axis =1 )\n",
    "        tmp = []\n",
    "        for el in df[\"in_train_weights\"]:\n",
    "             tmp.append(el[-1])\n",
    "        df[\"weights\"] = tmp\n",
    "        df = df.drop([\"in_train_weights\"], axis = 1)\n",
    "        tot[f\"{flab}{nq}\"] = df "
   ]
  },
  {
   "cell_type": "code",
   "execution_count": 3,
   "metadata": {},
   "outputs": [],
   "source": [
    "rss=[]\n",
    "for flab, fun in func_out.items():\n",
    "    for nq in [3,4]:\n",
    "        dl = tot[f\"{flab}{nq}\"]\n",
    "        rmse_scal = []\n",
    "        rmse_yc = []\n",
    "        for i, el in dl.iterrows():\n",
    "            \n",
    "            lower = 0.\n",
    "            upper = 1.\n",
    "\n",
    "            f_i = func_dict[flab]\n",
    "            scaled=False    \n",
    "            label = flab\n",
    "            n_step = pnq[f\"{nq}\"][1]\n",
    "            x = np.arange(lower, upper + .03, (upper-lower)/n_step).tolist() \n",
    "            xx = np.linspace(lower, upper, n_step) ##inputs sampling in the interval 0,1\n",
    "            y = [fun(value,f_i) for value in xx]\n",
    "\n",
    "            #tck=splrep(x,y,k=1) #coeffs\n",
    "            norm = np.linalg.norm(y)\n",
    "            y = y / norm\n",
    "            matrix,vector,v_norm = GeneralizedVQS_System(n_step,label,x,xx,scaled=scaled)\n",
    "\n",
    "            vqls_circuit = VQLS(matrix,v_norm,nq,opt='COBYLA') \n",
    "\n",
    "            c = np.linalg.solve(matrix,vector)\n",
    "\n",
    "            y_c=np.dot(matrix,c) #classic\n",
    "\n",
    "            y_fq=[]\n",
    "            q = vqls_circuit.solution(el['weights']).real\n",
    "            y_q=np.dot(matrix,q) #hybrid\n",
    "                            #Quantum\n",
    "\n",
    "            for a in matrix:\n",
    "                y_fq.append(vqls_circuit.direct_prod2(el['weights'],a))\n",
    "            rmse_yc.append(math.sqrt(np.square(np.subtract(y_c,y_fq)).mean()))\n",
    "            rmse_scal.append(math.sqrt(np.square(np.subtract(y,y_fq)).mean()))\n",
    "        dl[\"rmse_scal\"] = rmse_scal\n",
    "        dl[\"rmse_yc\"] = rmse_yc\n"
   ]
  },
  {
   "cell_type": "code",
   "execution_count": 4,
   "metadata": {},
   "outputs": [
    {
     "name": "stdout",
     "output_type": "stream",
     "text": [
      "|      |   rmse_yc |   rmse_scal |\n",
      "|:-----|----------:|------------:|\n",
      "| (0,) |  0.30803  |   0.0776852 |\n",
      "| (4,) |  0.308428 |   0.0780663 |\n",
      "| (7,) |  0.309383 |   0.0781614 |\n",
      "| (2,) |  0.660615 |   0.345134  |\n",
      "| (1,) |  0.671942 |   0.353697  |\n",
      "| (3,) |  0.936407 |   0.565645  |\n",
      "| (5,) |  0.93789  |   0.567159  |\n",
      "| (6,) |  0.938195 |   0.567497  |\n"
     ]
    }
   ],
   "source": [
    "dk= tot[\"sigmoid4\"]\n",
    "#dk['RSS_q'] = dk['RSS_q']/dk['knot']\n",
    "print(dk.pivot( columns = [], values=['rmse_yc','rmse_scal']).sort_values([\"rmse_yc\"]).to_markdown())"
   ]
  }
 ],
 "metadata": {
  "kernelspec": {
   "display_name": "Python 3.8.15 ('phd')",
   "language": "python",
   "name": "python3"
  },
  "language_info": {
   "codemirror_mode": {
    "name": "ipython",
    "version": 3
   },
   "file_extension": ".py",
   "mimetype": "text/x-python",
   "name": "python",
   "nbconvert_exporter": "python",
   "pygments_lexer": "ipython3",
   "version": "3.9.15"
  },
  "orig_nbformat": 4,
  "vscode": {
   "interpreter": {
    "hash": "907592e22d0f33952c262e5486f28a29c9de9426e750b7b468fd79b101dfb94f"
   }
  }
 },
 "nbformat": 4,
 "nbformat_minor": 2
}
