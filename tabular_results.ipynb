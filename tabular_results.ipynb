{
 "cells": [
  {
   "cell_type": "code",
   "execution_count": 1,
   "metadata": {},
   "outputs": [],
   "source": [
    "import matplotlib.pyplot as plt\n",
    "import seaborn as sns\n",
    "import pandas as pd\n",
    "import numpy as np \n",
    "from vqls import *\n",
    "from utils import *\n"
   ]
  },
  {
   "cell_type": "code",
   "execution_count": 2,
   "metadata": {},
   "outputs": [],
   "source": [
    "func_out = {'sigmoid': sigmoid_t,'elu': elu_t, 'relu': relu_t, 'sin':sin_m}#'tanh': tanh_t,\n",
    "func_list = list(func_out.keys())\n",
    "func_dict = {'sigmoid': .0,'tanh': 1.0,'elu':.12, 'relu':.0, 'sin':2}\n",
    "\n",
    "pnq = {'3':(3,8),\n",
    "        '4':(4,16)}\n",
    "columns=['function', 'nq', 'knot', 'training cost', 'time(s)', 'weights', 'RSS_h', 'RSS_q' ]\n",
    "tot = {}\n",
    "for flab, fun in func_out.items():\n",
    "    for nq, knot in  pnq.values():\n",
    "        file_path = f\"results/results_gvqs_{flab}_{nq}.json\"\n",
    "        df = pd.read_json(file_path).drop(['Condition number', 'norm(yk)', 'training_cost', 'exe_time','RSS_h'], axis =1 )\n",
    "        tmp = []\n",
    "        for el in df[\"in_train_weights\"]:\n",
    "             tmp.append(el[-1])\n",
    "        df[\"weights\"] = tmp\n",
    "        df = df.drop([\"in_train_weights\"], axis = 1)\n",
    "        tot[f\"{flab}{nq}\"] = df "
   ]
  },
  {
   "cell_type": "code",
   "execution_count": 3,
   "metadata": {},
   "outputs": [],
   "source": [
    "rss=[]\n",
    "for flab, fun in func_out.items():\n",
    "    for nq in [3,4]:\n",
    "        dl = tot[f\"{flab}{nq}\"]\n",
    "        rmse_scal = []\n",
    "        rmse_yc = []\n",
    "        for i, el in dl.iterrows():\n",
    "            \n",
    "            lower = 0.\n",
    "            upper = 1.\n",
    "\n",
    "            f_i = func_dict[flab]\n",
    "            scaled=False    \n",
    "            label = flab\n",
    "            n_step = pnq[f\"{nq}\"][1]\n",
    "            x = np.arange(lower, upper + .03, (upper-lower)/n_step).tolist() \n",
    "            xx = np.linspace(lower, upper, n_step) ##inputs sampling in the interval 0,1\n",
    "            y = [fun(value,f_i) for value in xx]\n",
    "\n",
    "            #tck=splrep(x,y,k=1) #coeffs\n",
    "            norm = np.linalg.norm(y)\n",
    "            y = y / norm\n",
    "            matrix,vector,v_norm = GeneralizedVQS_System(n_step,label,x,xx,scaled=scaled)\n",
    "\n",
    "            vqls_circuit = VQLS(matrix,v_norm,nq,opt='COBYLA') \n",
    "\n",
    "            c = np.linalg.solve(matrix,vector)\n",
    "\n",
    "            y_c=np.dot(matrix,c) #classic\n",
    "\n",
    "            y_fq=[]\n",
    "            q = vqls_circuit.solution(el['weights']).real\n",
    "            y_q=np.dot(matrix,q) #hybrid\n",
    "                            #Quantum\n",
    "\n",
    "            for a in matrix:\n",
    "                y_fq.append(vqls_circuit.direct_prod2(el['weights'],a))\n",
    "            rmse_yc.append(math.sqrt(np.square(np.subtract(y_c,y_fq)).mean()))\n",
    "            rmse_scal.append(math.sqrt(np.square(np.subtract(y,y_fq)).mean()))\n",
    "        dl[\"rmse_scal\"] = rmse_scal\n",
    "        dl[\"rmse_yc\"] = rmse_yc\n"
   ]
  },
  {
   "cell_type": "code",
   "execution_count": 4,
   "metadata": {},
   "outputs": [
    {
     "data": {
      "text/plain": [
       "dict_keys(['sigmoid3', 'sigmoid4', 'elu3', 'elu4', 'relu3', 'relu4', 'sin3', 'sin4'])"
      ]
     },
     "execution_count": 4,
     "metadata": {},
     "output_type": "execute_result"
    }
   ],
   "source": [
    "tot.keys()"
   ]
  },
  {
   "cell_type": "code",
   "execution_count": 5,
   "metadata": {},
   "outputs": [
    {
     "name": "stdout",
     "output_type": "stream",
     "text": [
      "|       |   rmse_yc |    RSS_q |\n",
      "|:------|----------:|---------:|\n",
      "| (12,) |  0.183223 | 0.268566 |\n",
      "| (22,) |  0.18553  | 0.275371 |\n",
      "| (11,) |  0.185691 | 0.275849 |\n",
      "| (3,)  |  0.185943 | 0.276599 |\n",
      "| (23,) |  0.698045 | 3.89813  |\n",
      "| (6,)  |  0.702102 | 3.94358  |\n",
      "| (17,) |  0.702309 | 3.9459   |\n",
      "| (13,) |  0.702592 | 3.94908  |\n",
      "| (18,) |  0.703671 | 3.96122  |\n",
      "| (0,)  |  0.703877 | 3.96354  |\n",
      "| (8,)  |  0.704963 | 3.97578  |\n",
      "| (10,) |  0.706013 | 3.98764  |\n",
      "| (9,)  |  0.715782 | 4.09875  |\n",
      "| (19,) |  0.719192 | 4.1379   |\n",
      "| (4,)  |  0.719874 | 4.14575  |\n",
      "| (20,) |  0.719874 | 4.14575  |\n",
      "| (14,) |  0.721589 | 4.16553  |\n",
      "| (15,) |  0.725029 | 4.20533  |\n",
      "| (7,)  |  0.738071 | 4.35799  |\n",
      "| (5,)  |  1.08453  | 9.40971  |\n",
      "| (21,) |  1.08523  | 9.42185  |\n",
      "| (2,)  |  1.08552  | 9.42683  |\n",
      "| (1,)  |  1.08588  | 9.43312  |\n",
      "| (16,) |  1.08667  | 9.44684  |\n",
      "| (24,) |  1.08667  | 9.44684  |\n"
     ]
    }
   ],
   "source": [
    "dk= tot[\"sigmoid3\"]\n",
    "#dk['RSS_q'] = dk['RSS_q']/dk['knot']\n",
    "print(dk.pivot( columns = [], values=['rmse_yc','RSS_q']).sort_values([\"rmse_yc\"]).to_markdown())"
   ]
  },
  {
   "cell_type": "code",
   "execution_count": 6,
   "metadata": {},
   "outputs": [
    {
     "data": {
      "text/plain": [
       "0.2765988787"
      ]
     },
     "execution_count": 6,
     "metadata": {},
     "output_type": "execute_result"
    }
   ],
   "source": [
    "flab = \"sigmoid\"\n",
    "nq = 3\n",
    "dl = tot[f\"{flab}{nq}\"]\n",
    "dl[\"RSS_q\"][3]\n"
   ]
  },
  {
   "cell_type": "code",
   "execution_count": 7,
   "metadata": {},
   "outputs": [],
   "source": [
    "rss=[]\n",
    "res = {}\n",
    "\n",
    "for flab, fun in func_out.items():\n",
    "    funres = {}\n",
    "    # vqs results\n",
    "    for stp in [20]:\n",
    "        nq = 1\n",
    "        file_path = f\"results/results_vqs_{flab}_{nq}_{stp}.json\"\n",
    "        dl = pd.read_json(file_path).drop([\"exe_time\",\"weights\", \"training_cost\", \"seed\"], axis = 1)\n",
    "\n",
    "        funres[f\"vqs_{stp}\"]= {\"rmse\":np.min(dl[\"rmse\"]), \"RSS\": np.sqrt(dl[\"RSS_q\"][np.argmin(dl[\"rmse\"])]/40) }\n",
    "\n",
    "\n",
    "    # gvqs results\n",
    "    for nq in [3,4]:\n",
    "        dl = tot[f\"{flab}{nq}\"]\n",
    "        rmse_scal = []\n",
    "        rmse_yc = []\n",
    "        lower = 0.\n",
    "        upper = 1.\n",
    "        for i, el in dl.iterrows():\n",
    "            \n",
    "\n",
    "            f_i = func_dict[flab]\n",
    "            scaled=False    \n",
    "            label = flab\n",
    "            n_step = pnq[f\"{nq}\"][1]\n",
    "            x = np.arange(lower, upper + .03, (upper-lower)/n_step).tolist() \n",
    "            xx = np.linspace(lower, upper, n_step) ##inputs sampling in the interval 0,1\n",
    "\n",
    "            #tck=splrep(x,y,k=1) #coeffs\n",
    "            matrix,vector,v_norm = GeneralizedVQS_System(n_step,label,x,xx,scaled=scaled)\n",
    "\n",
    "            vqls_circuit = VQLS(matrix,v_norm,nq,opt='COBYLA') \n",
    "\n",
    "            c = np.linalg.solve(matrix,vector)\n",
    "\n",
    "            y_c=np.dot(matrix,c) /np.linalg.norm(vector)#classic\n",
    "            \n",
    "            y_fq=[]\n",
    "            for a in matrix:\n",
    "                y_fq.append(vqls_circuit.direct_prod2(el['weights'],a))\n",
    "            rmse_yc.append(math.sqrt(np.square(np.subtract(v_norm,y_fq)).mean()))\n",
    "        funres[f\"gvqs_{nq}\"]= {\"rmse\":np.min(rmse_yc),\"nrsme\": np.min(rmse_yc)/(np.max(y_c) -np.min(y_c))}\n",
    "    res[flab] = funres\n"
   ]
  },
  {
   "cell_type": "code",
   "execution_count": 8,
   "metadata": {},
   "outputs": [
    {
     "name": "stdout",
     "output_type": "stream",
     "text": [
      "\n",
      "===============  sigmoid  ===============\n",
      "            rmse       RSS                nrsme\n",
      "vqs_20  0.086756  0.086756                  NaN\n",
      "gvqs_3  0.125112       NaN  0.23004417824751283\n",
      "gvqs_4  0.077685       NaN  0.20026862677259832\n",
      "\n",
      "===============  elu  ===============\n",
      "            rmse       RSS                nrsme\n",
      "vqs_20  0.154265  0.154265                  NaN\n",
      "gvqs_3  0.140234       NaN   0.2159109992738178\n",
      "gvqs_4  0.077421       NaN  0.16265677020301578\n",
      "\n",
      "===============  relu  ===============\n",
      "            rmse       RSS                nrsme\n",
      "vqs_20  0.093531  0.093531                  NaN\n",
      "gvqs_3  0.154328       NaN   0.2111459218949655\n",
      "gvqs_4  0.078688       NaN  0.14444248732569634\n",
      "\n",
      "===============  sin  ===============\n",
      "            rmse       RSS                nrsme\n",
      "vqs_20  0.333613  0.333613                  NaN\n",
      "gvqs_3  0.109348       NaN    0.190176644899118\n",
      "gvqs_4  0.063676       NaN  0.15519009998759212\n"
     ]
    }
   ],
   "source": [
    "for key in res.keys():\n",
    "    print('\\n' + '='*15 + '  ' +key+ '  ' + '='*15)\n",
    "    print(pd.DataFrame(res[key]).T)#.to_markdown(tablefmt= 'latex', floatfmt=\".4f\"))\n"
   ]
  },
  {
   "cell_type": "code",
   "execution_count": null,
   "metadata": {},
   "outputs": [],
   "source": []
  },
  {
   "cell_type": "code",
   "execution_count": null,
   "metadata": {},
   "outputs": [],
   "source": []
  },
  {
   "cell_type": "code",
   "execution_count": null,
   "metadata": {},
   "outputs": [],
   "source": []
  },
  {
   "cell_type": "code",
   "execution_count": null,
   "metadata": {},
   "outputs": [],
   "source": []
  },
  {
   "cell_type": "code",
   "execution_count": null,
   "metadata": {},
   "outputs": [],
   "source": []
  },
  {
   "cell_type": "code",
   "execution_count": 38,
   "metadata": {},
   "outputs": [],
   "source": [
    "func_out = {'sigmoid': sigmoid,'tanh': tanh,'elu': elu, 'relu': relu, 'sin':sin_m}\n",
    "func_dict = {'sigmoid': .0,'tanh': 1.0,'elu':.12, 'relu':.0, 'sin':-1}\n",
    "step = (upper-lower)/n_step\n",
    "result = {}\n",
    "n_step= 20\n",
    "step = (1-(-1))/n_step\n",
    "# function specific \n",
    "f_i = func_dict[label]\n",
    "upper = 1 \n",
    "lower = -1\n",
    "#TODO THE FUCK IS FE\n",
    "f_e = f_i\n",
    "\n",
    "func = func_out[label]\n"
   ]
  },
  {
   "cell_type": "code",
   "execution_count": 39,
   "metadata": {},
   "outputs": [
    {
     "name": "stdout",
     "output_type": "stream",
     "text": [
      "[-1.0, -0.9, -0.8, -0.7000000000000001, -0.6000000000000001, -0.5000000000000001, -0.40000000000000013, -0.30000000000000016, -0.20000000000000018, -0.1000000000000002, -2.220446049250313e-16, 0.09999999999999964, 0.19999999999999973, 0.2999999999999998, 0.3999999999999997, 0.49999999999999956, 0.5999999999999996, 0.6999999999999997, 0.7999999999999996, 0.8999999999999995, 0.9999999999999996]\n",
      "[0.5000000000000001, 0.6545084971874737, 0.7938926261462367, 0.9045084971874737, 0.9755282581475768, 1.0, 0.9755282581475768, 0.9045084971874738, 0.7938926261462368, 0.654508497187474, 0.5000000000000003, 0.34549150281252683, 0.20610737385376382, 0.09549150281252644, 0.024471741852423345, 0.0, 0.024471741852423012, 0.095491502812526, 0.20610737385376288, 0.3454915028125254, 0.4999999999999993]\n"
     ]
    }
   ],
   "source": [
    "#################################\n",
    "x = np.arange(lower, upper + .03, step).tolist()\n",
    "y = [func(value,f_i) for value in x]\n",
    "\n",
    "print(x)\n",
    "print(y)"
   ]
  },
  {
   "cell_type": "code",
   "execution_count": 45,
   "metadata": {},
   "outputs": [
    {
     "name": "stdout",
     "output_type": "stream",
     "text": [
      "[[-1.0, -0.901], [-0.9, -0.801], [-0.8, -0.7010000000000001], [-0.7000000000000001, -0.6010000000000001], [-0.6000000000000001, -0.5010000000000001], [-0.5000000000000001, -0.40100000000000013], [-0.40000000000000013, -0.30100000000000016], [-0.30000000000000016, -0.20100000000000015], [-0.20000000000000018, -0.10100000000000017], [-0.1000000000000002, -0.0010000000000001952], [-2.220446049250313e-16, 0.09899999999999978], [0.09999999999999964, 0.19899999999999965], [0.19999999999999973, 0.2989999999999997], [0.2999999999999998, 0.3989999999999998], [0.3999999999999997, 0.49899999999999967], [0.49999999999999956, 0.5989999999999995], [0.5999999999999996, 0.6989999999999996], [0.6999999999999997, 0.7989999999999997], [0.7999999999999996, 0.8989999999999996], [0.8999999999999995, 0.9989999999999994]]\n"
     ]
    }
   ],
   "source": [
    "X = []\n",
    "for i in range(1, len(x)):\n",
    "    X.append(np.arange(x[i - 1], x[i], step - 0.001).tolist())\n",
    "\n",
    "print(X)"
   ]
  },
  {
   "cell_type": "code",
   "execution_count": 54,
   "metadata": {},
   "outputs": [
    {
     "name": "stdout",
     "output_type": "stream",
     "text": [
      "20\n",
      "[tensor(0., requires_grad=True), tensor(0., requires_grad=True), tensor(0., requires_grad=True), tensor(0., requires_grad=True), tensor(0., requires_grad=True), tensor(0., requires_grad=True), tensor(0., requires_grad=True), tensor(0., requires_grad=True), tensor(0., requires_grad=True), tensor(0., requires_grad=True), tensor(0., requires_grad=True), tensor(0., requires_grad=True), tensor(0., requires_grad=True), tensor(0., requires_grad=True), tensor(0., requires_grad=True), tensor(0., requires_grad=True), tensor(0., requires_grad=True), tensor(0., requires_grad=True), tensor(0., requires_grad=True), tensor(0., requires_grad=True)]\n"
     ]
    }
   ],
   "source": [
    "x1 = [item for sublist in X for item in sublist]\n",
    "y1 = [func(value,f_e) for value in x]\n",
    "\n",
    "print(len(X))\n",
    "x2 = np.array([i for i in x1]).reshape([20,2])\n",
    "\n",
    "print([(a[0]- b) for a, b in zip(x2,x)])"
   ]
  },
  {
   "cell_type": "code",
   "execution_count": null,
   "metadata": {},
   "outputs": [],
   "source": []
  }
 ],
 "metadata": {
  "kernelspec": {
   "display_name": "Python 3.8.15 ('phd')",
   "language": "python",
   "name": "python3"
  },
  "language_info": {
   "codemirror_mode": {
    "name": "ipython",
    "version": 3
   },
   "file_extension": ".py",
   "mimetype": "text/x-python",
   "name": "python",
   "nbconvert_exporter": "python",
   "pygments_lexer": "ipython3",
   "version": "3.9.15"
  },
  "orig_nbformat": 4,
  "vscode": {
   "interpreter": {
    "hash": "907592e22d0f33952c262e5486f28a29c9de9426e750b7b468fd79b101dfb94f"
   }
  }
 },
 "nbformat": 4,
 "nbformat_minor": 2
}
