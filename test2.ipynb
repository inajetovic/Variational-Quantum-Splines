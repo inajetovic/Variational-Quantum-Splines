{
 "cells": [
  {
   "cell_type": "code",
   "execution_count": 1,
   "metadata": {},
   "outputs": [],
   "source": [
    "from utils import *\n",
    "from vqls import *\n",
    "import matplotlib.pyplot as plt\n",
    "import numpy as np"
   ]
  },
  {
   "cell_type": "code",
   "execution_count": 2,
   "metadata": {},
   "outputs": [],
   "source": [
    "verbose = False"
   ]
  },
  {
   "cell_type": "code",
   "execution_count": 3,
   "metadata": {},
   "outputs": [],
   "source": [
    "lower = -1.\n",
    "upper = 1. \n",
    "step = .1\n",
    "optimizer='COBYLA'\n",
    "func_out = {'sigmoid': sigmoid,'tanh': tanh,'elu': elu, 'relu': relu, 'sin':sin_m}\n",
    "func_dict = {'sigmoid': .0,'tanh': 1.0,'elu':.12, 'relu':.0, 'sin':.0}\n",
    "\n",
    "nq=1 #number of qubits, 1 for 2x2 matrix inversion\n",
    "\n",
    "# \"denormalizations\" options. only for visualize the penalties\n",
    "y_norm=False\n",
    "point_norm=False\n",
    "both = False\n",
    "\n",
    "#to visualize the condition number plot\n",
    "visualize_k_numb=False  \n"
   ]
  },
  {
   "cell_type": "code",
   "execution_count": 4,
   "metadata": {},
   "outputs": [],
   "source": [
    "# function specific \n",
    "label = 'tanh'\n",
    "\n",
    "#elu 0.1,0.0, relu 0.0 0.0, tanh 1. 1.0\n",
    "f_i = func_dict[label]\n",
    "f_e = f_i\n",
    "\n",
    "func = func_out[label]\n"
   ]
  },
  {
   "cell_type": "code",
   "execution_count": 5,
   "metadata": {},
   "outputs": [],
   "source": [
    "# Create the function\n",
    "x = np.arange(lower, upper + .03, step).tolist()\n",
    "y = [func(value,f_i) for value in x]\n",
    "\n",
    "#############################################################################################\n",
    "################################# SubSystemMatrices Procedure ###############################\n",
    "#############################################################################################\n",
    "\n",
    "M = []\n",
    "Y = []\n",
    "\n",
    "for i in range(1, len(x)):\n",
    "    eq1 = pd.Series([1, x[i - 1]])\n",
    "    eq2 = pd.Series([1, x[i]])\n",
    "    M_c = pd.concat([eq1, eq2], axis=1).transpose()\n",
    "    Y.append([y[i - 1], y[i]])\n",
    "    M.append(M_c)\n"
   ]
  },
  {
   "cell_type": "code",
   "execution_count": 6,
   "metadata": {},
   "outputs": [],
   "source": [
    "q_weights=[]\n",
    "c_coeff=[]\n",
    "beta_q=[]\n",
    "v_norms=[]\n",
    "k_list=[]\n"
   ]
  },
  {
   "cell_type": "code",
   "execution_count": 7,
   "metadata": {},
   "outputs": [
    {
     "name": "stdout",
     "output_type": "stream",
     "text": [
      "index  0\n",
      "Optimizing variational params..\n",
      "index  1\n",
      "Optimizing variational params..\n",
      "index  2\n",
      "Optimizing variational params..\n",
      "index  3\n",
      "Optimizing variational params..\n",
      "index  4\n",
      "Optimizing variational params..\n",
      "index  5\n",
      "Optimizing variational params..\n",
      "index  6\n",
      "Optimizing variational params..\n",
      "index  7\n",
      "Optimizing variational params..\n",
      "index  8\n",
      "Optimizing variational params..\n",
      "index  9\n",
      "Optimizing variational params..\n",
      "index  10\n",
      "Optimizing variational params..\n",
      "index  11\n",
      "Optimizing variational params..\n",
      "index  12\n",
      "Optimizing variational params..\n",
      "index  13\n",
      "Optimizing variational params..\n",
      "index  14\n",
      "Optimizing variational params..\n",
      "index  15\n",
      "Optimizing variational params..\n",
      "index  16\n",
      "Optimizing variational params..\n",
      "index  17\n",
      "Optimizing variational params..\n",
      "index  18\n",
      "Optimizing variational params..\n",
      "index  19\n",
      "Optimizing variational params..\n"
     ]
    }
   ],
   "source": [
    "for i in range(len(M)):\n",
    "    print('index ',i)\n",
    "    matrix = M[i]\n",
    "    vector = Y[i]\n",
    "    if vector == [0.0, 0.0]:\n",
    "        #y = [el + 10 ** -4 for el in y]\n",
    "        vector = [.000001, 0.00001] # the relu case\n",
    "    v_norm = vector/np.linalg.norm(vector)\n",
    "    v_norms.append(np.linalg.norm(vector))\n",
    "    \n",
    "    if verbose:\n",
    "        print('Matrix\\n',matrix)\n",
    "        print('matrixnp\\n',np.array(matrix))\n",
    "        k_numb=np.linalg.cond(np.array(matrix))\n",
    "        print('Condition number\\n',k_numb)\n",
    "        k_list.append(k_numb)\n",
    "        print('yk     :',vector)\n",
    "        print('norm(yk)',np.linalg.norm(vector))\n",
    "        print('yk_norm:',v_norm)\n",
    "\n",
    "    vqls_circuit = VQLS(matrix,v_norm,nq,opt=optimizer) \n",
    "    print('Optimizing variational params..')\n",
    "    weights = vqls_circuit.train(max_iter=200) \n",
    "    q_weights.append(weights)\n",
    "    q = vqls_circuit.solution(weights)\n",
    "    beta_q.append(q)\n",
    "    c = np.linalg.solve(matrix,vector)\n",
    "    c_coeff.append(c)\n",
    "\n",
    "    if verbose:\n",
    "        print('Quantum coefficients         :',q)\n",
    "        print(\"Variational Circuit's weights:\",weights)\n",
    "        print('beta_classic                 :',c)\n"
   ]
  },
  {
   "cell_type": "code",
   "execution_count": 8,
   "metadata": {},
   "outputs": [],
   "source": [
    "# Sampling points within intervals\n",
    "X = []\n",
    "for i in range(1, len(x)):\n",
    "    X.append(np.arange(x[i - 1], x[i], step - 0.01).tolist())\n"
   ]
  },
  {
   "cell_type": "code",
   "execution_count": 9,
   "metadata": {},
   "outputs": [
    {
     "name": "stdout",
     "output_type": "stream",
     "text": [
      "Classic and Quantum Product estimation..\n",
      "Index 0\n",
      "Index 1\n",
      "Index 2\n",
      "Index 3\n",
      "Index 4\n",
      "Index 5\n",
      "Index 6\n",
      "Index 7\n",
      "Index 8\n",
      "Index 9\n",
      "Index 10\n",
      "Index 11\n",
      "Index 12\n",
      "Index 13\n",
      "Index 14\n",
      "Index 15\n",
      "Index 16\n",
      "Index 17\n",
      "Index 18\n",
      "Index 19\n"
     ]
    }
   ],
   "source": [
    "#############################################################################################\n",
    "######################################## Inner Product ######################################\n",
    "#############################################################################################\n",
    "\n",
    "qc_full = []\n",
    "classic_prod = []\n",
    "print('Classic and Quantum Product estimation..')\n",
    "\n",
    "\n",
    "\n",
    "for i in range(len(X)):\n",
    "    print('Index',i)\n",
    "    for x in X[i]:\n",
    "        point = [1,x]\n",
    "        #classic_prod\n",
    "        classic_prod.append(c_coeff[i][0]+x*c_coeff[i][1])\n",
    "        #quantum_prod with/without norm\n",
    "        if y_norm:\n",
    "            norm=v_norms[i]\n",
    "        elif point_norm:\n",
    "            norm=np.linalg.norm(point)\n",
    "            print('point',point)\n",
    "            print('norm(point)',norm)\n",
    "            print('point_norm',point/norm)\n",
    "        elif both:\n",
    "            print('v_norms[i]',v_norms[i])\n",
    "            print('point',np.linalg.norm(point))\n",
    "            norm= v_norms[i]*np.linalg.norm(point)\n",
    "            print('norm',norm)\n",
    "        else:\n",
    "            norm = 1\n",
    "\n",
    "        qc_full.append(vqls_circuit.direct_prod2(q_weights[i],point,visualize=False)*norm)  \n"
   ]
  },
  {
   "cell_type": "code",
   "execution_count": 10,
   "metadata": {},
   "outputs": [
    {
     "name": "stdout",
     "output_type": "stream",
     "text": [
      "RSS: 1.8320861221056284\n"
     ]
    }
   ],
   "source": [
    "x = [item for sublist in X for item in sublist]\n",
    "y = [func(value,f_e) for value in x]\n",
    "\n",
    "\n",
    "##### TODO: ???????????????????????????????????????????????????????????????????\n",
    "if label == 'aaatanh':\n",
    "    qc_full = [q - 0.2 for q in qc_full] \n",
    "if label == 'elu':\n",
    "    classic_prod = [c -f_i for c in classic_prod]\n",
    "    qc_full = [c-f_i for c in qc_full]\n",
    "\n",
    "\n",
    "rss_full = np.sum(np.square(np.array(y) - np.array(qc_full)))\n",
    "print('RSS:',rss_full)\n",
    "\n",
    "\n",
    "\n"
   ]
  },
  {
   "cell_type": "code",
   "execution_count": 11,
   "metadata": {},
   "outputs": [
    {
     "data": {
      "image/png": "[encoded data removed]",
      "text/plain": [
       "<Figure size 600x500 with 1 Axes>"
      ]
     },
     "metadata": {},
     "output_type": "display_data"
    }
   ],
   "source": [
    "#############################################################################################\n",
    "######################################## Visualization ######################################\n",
    "#############################################################################################\n",
    "                                                    \n",
    "type = 'Full'\n",
    "x_cond = [(X[i][0]+X[i][1])/2 for i in range(len(X))]\n",
    "\n",
    "x1=[i for j,i in enumerate(x) if j%2==0]\n",
    "y1=[i for j,i in enumerate(y) if j%2==0]\n",
    "\n",
    "fig, ax = plt.subplots(figsize=(6, 5))\n",
    "ax.plot(x, classic_prod, color='orange', label='Classic spline',zorder=1)  \n",
    "ax.plot(x, qc_full, color='steelblue',label=type + ' Qspline') \n",
    "ax.scatter(x1,y1,color='sienna',s=10)\n",
    "\n",
    "ax.grid(alpha=0.3)\n",
    "plt.legend(loc='best')\n",
    "plt.show()\n",
    "\n",
    "if visualize_k_numb:\n",
    "    fig, ax = plt.subplots(figsize=(6, 5))\n",
    "    ax.scatter(x_cond, k_list, color='cornflowerblue', label='ConditionNumber', s=10)\n",
    "    ax.grid(alpha=0.3)\n",
    "    plt.legend(loc='best')\n",
    "    plt.show()\n"
   ]
  },
  {
   "cell_type": "code",
   "execution_count": null,
   "metadata": {},
   "outputs": [],
   "source": []
  },
  {
   "cell_type": "code",
   "execution_count": null,
   "metadata": {},
   "outputs": [],
   "source": []
  }
 ],
 "metadata": {
  "interpreter": {
   "hash": "6c8207835d7819358f0577a0fb250f205097f772dd12f7ed33a870698249711c"
  },
  "kernelspec": {
   "display_name": "Python 3.7.11 64-bit ('tesi': conda)",
   "language": "python",
   "name": "python3"
  },
  "language_info": {
   "codemirror_mode": {
    "name": "ipython",
    "version": 3
   },
   "file_extension": ".py",
   "mimetype": "text/x-python",
   "name": "python",
   "nbconvert_exporter": "python",
   "pygments_lexer": "ipython3",
   "version": "3.9.15"
  },
  "orig_nbformat": 4
 },
 "nbformat": 4,
 "nbformat_minor": 2
}
