{
 "cells": [
  {
   "cell_type": "code",
   "execution_count": 1,
   "metadata": {},
   "outputs": [],
   "source": [
    "#from vqls import *\n",
    "from utils import *\n"
   ]
  },
  {
   "cell_type": "code",
   "execution_count": 2,
   "metadata": {},
   "outputs": [
    {
     "name": "stdout",
     "output_type": "stream",
     "text": [
      "T dim 10\n",
      "x_dim 9\n"
     ]
    },
    {
     "data": {
      "image/png": "[encoded data removed]",
      "text/plain": [
       "<Figure size 432x288 with 2 Axes>"
      ]
     },
     "metadata": {
      "needs_background": "light"
     },
     "output_type": "display_data"
    },
    {
     "data": {
      "image/png": "[encoded data removed]",
      "text/plain": [
       "<Figure size 432x288 with 1 Axes>"
      ]
     },
     "metadata": {
      "needs_background": "light"
     },
     "output_type": "display_data"
    },
    {
     "name": "stdout",
     "output_type": "stream",
     "text": [
      "Condition number\n",
      " 62.475138845718426\n",
      "norm(yk) 1.77256959808715\n"
     ]
    }
   ],
   "source": [
    "lower = 0.\n",
    "upper = 1. \n",
    "n_step = 8\n",
    "f_i = 0.0  \n",
    "MAX_ITER = 30\n",
    "\n",
    "nq=3\n",
    "# K = 2^n = dim(T)-2\n",
    "# with dim(S) = KxK\n",
    "# n = num qubits\n",
    "# T = set of knots\n",
    "\n",
    "scaled=False\n",
    "\n",
    "label = 'sigmoid'\n",
    "func = sigmoid_t\n",
    "\n",
    "\n",
    "x = np.arange(lower, upper + .03, (upper-lower)/n_step).tolist() \n",
    "xx = np.linspace(lower, upper, n_step) ##inputs sampling in the interval 0,1\n",
    "y = [func(value,f_i) for value in x]\n",
    "\n",
    "if scaled:\n",
    "  norm = np.linalg.norm(y)\n",
    "  y = y / norm\n",
    "tck=splrep(x,y,k=1) #coeffs\n",
    "#plt.scatter(range(len(tck[1])),tck[0], label = \"scipy knots\")\n",
    "\n",
    "\n",
    "#############################################################################################\n",
    "###################################### System Preparation ###################################\n",
    "#############################################################################################\n",
    "\n",
    "matrix,vector,v_norm = GeneralizedVQS_System(n_step,label,x,xx,scaled=scaled);\n",
    "\n",
    "import seaborn as sns\n",
    "\n",
    "sns.heatmap(matrix)\n",
    "plt.show()\n",
    "plt.plot(y)\n",
    "\n",
    "plt.scatter(range(len(vector)), vector, label=\"vector\")\n",
    "plt.scatter(range(len(tck[1])),tck[1], label=\"scipy coefs\")\n",
    "plt.scatter(range(len(v_norm)), v_norm, label=\"v_norm\")\n",
    "plt.legend()\n",
    "plt.show()\n",
    "#############################################################################################\n",
    "################################# VQLS and Linear Prob. Solving #############################\n",
    "#############################################################################################\n",
    "\n",
    "k_numb=np.linalg.cond(np.array(matrix))\n",
    "print('Condition number\\n',k_numb)\n",
    "print('norm(yk)',np.linalg.norm(vector))\n",
    "\n",
    "\n"
   ]
  },
  {
   "cell_type": "markdown",
   "metadata": {},
   "source": [
    "## oskd\n"
   ]
  },
  {
   "cell_type": "code",
   "execution_count": 58,
   "metadata": {},
   "outputs": [],
   "source": [
    "\n",
    "\n",
    "import pennylane as qml\n",
    "from pennylane import numpy as np\n",
    "import matplotlib.pyplot as plt\n",
    "from math import pi,exp\n",
    "import pandas as pd\n",
    "import scipy\n",
    "from scipy.optimize import minimize\n",
    "\n",
    "\n",
    "#print(qml.__version__)\n",
    "\n",
    "class VQLS:\n",
    "    def __init__(self,matrix,vector, n_qubits,opt =\"COBYLA\", seed = 42):\n",
    "        self.matrix = matrix\n",
    "        self.vector = vector\n",
    "        self.n_qubits = n_qubits\n",
    "        self.tot_qubits = n_qubits + 1  \n",
    "        self.ancilla_idx = n_qubits  \n",
    "        self.q_delta = 0.01\n",
    "        self.n_shots = 512#10 ** 6\n",
    "        self.rng_seed = 0 \n",
    "        self.iterations = 0\n",
    "        self.opt = opt\n",
    "        self.cost_vals = []\n",
    "\n",
    "    # circuit, and his adjoint, to prepare the state |b> = |yk> from b = yk = v_norm \n",
    "    def U_b(self, adjoint=False):\n",
    "        lines=[e for e in range(self.n_qubits)]\n",
    "        \n",
    "        if adjoint:\n",
    "            qml.adjoint(qml.templates.state_preparations.MottonenStatePreparation)(self.vector,wires=lines)\n",
    "        else:\n",
    "            qml.templates.state_preparations.MottonenStatePreparation(self.vector,wires=lines)\n",
    "\n",
    "    def U_b_full(self, adjoint=False):\n",
    "        lines=[e for e in range(self.n_qubits)]\n",
    "        if adjoint:\n",
    "            qml.adjoint(qml.templates.state_preparations.MottonenStatePreparation)(self.vector,wires=lines)\n",
    "            #qml.adjoint(qml.AmplitudeEmbedding)(self.vector,wires=lines,pad_with=0.0,normalize=True)\n",
    "        else:\n",
    "            qml.templates.state_preparations.MottonenStatePreparation(self.vector,wires=lines)\n",
    "            #qml.AmplitudeEmbedding(self.vector,wires=lines,pad_with=0.0,normalize=True)\n",
    "        \n",
    "    #circuits for the Sk matrix\n",
    "    def A_c(self, idx, adjoint=False):\n",
    "        for q in range(self.n_qubits):\n",
    "            if idx == 4 * q:\n",
    "                # Identity operation\n",
    "                None\n",
    "            elif idx == 4 * q + 1:\n",
    "                qml.CNOT(wires=[self.ancilla_idx, q])\n",
    "\n",
    "            elif idx == 4 * q + 2:\n",
    "                qml.CZ(wires=[self.ancilla_idx, q])\n",
    "            \n",
    "            elif idx == 4 * q + 3:\n",
    "                if adjoint:\n",
    "                    qml.adjoint(qml.CRY)(3*pi,wires=[self.ancilla_idx,q])\n",
    "                else:\n",
    "                    qml.CRY(3*pi,wires=[self.ancilla_idx,q])\n",
    "\n",
    "    #Ansatz from Pennylane\n",
    "    def variational_block(self,weights): \n",
    "        \"\"\"Variational circuit mapping the ground state |0> to the ansatz state |x>.\"\"\"\n",
    "        # We first prepare an equal superposition of all the states of the computational basis.\n",
    "\n",
    "        for idx in range(self.n_qubits):\n",
    "            qml.Hadamard(wires=idx)\n",
    "\n",
    "        # A very minimal variational circuit.\n",
    "        for idx, element in enumerate(weights):\n",
    "            qml.RY(element, wires=idx)\n",
    "\n",
    "    #These funcitons can be refactored following the code at https://qiskit.org/textbook/ch-paper-implementations/vqls.html\n",
    "    def three_ansatz(self,weights):\n",
    "        qml.RY(weights[0],wires=0)\n",
    "        qml.RY(weights[1],wires=1)\n",
    "        qml.RY(weights[2],wires=2)\n",
    "\n",
    "        qml.CZ(wires=[0,1])\n",
    "        qml.CZ(wires=[2,0])\n",
    "\n",
    "        qml.RY(weights[3],wires=0)\n",
    "        qml.RY(weights[4],wires=1)\n",
    "        qml.RY(weights[5],wires=2)\n",
    "\n",
    "        qml.CZ(wires=[1,2])\n",
    "        qml.CZ(wires=[2,0])\n",
    "\n",
    "        qml.RY(weights[6],wires=0)\n",
    "        qml.RY(weights[7],wires=1)\n",
    "        qml.RY(weights[8],wires=2)\n",
    "\n",
    "    def five_ansatz(self,weights): \n",
    "\n",
    "        qml.RY(weights[0],wires=0)\n",
    "        qml.RY(weights[1],wires=1)\n",
    "        qml.RY(weights[2],wires=2)\n",
    "\n",
    "        qml.CZ(wires=[0,1])\n",
    "        qml.CZ(wires=[2,0])\n",
    "\n",
    "        qml.RY(weights[3],wires=1)\n",
    "        qml.RY(weights[4],wires=2)\n",
    "        qml.RY(weights[5],wires=3)\n",
    "\n",
    "        qml.CZ(wires=[1,2])\n",
    "        qml.CZ(wires=[3,1])\n",
    "\n",
    "        qml.RY(weights[6],wires=2)\n",
    "        qml.RY(weights[7],wires=3)\n",
    "        qml.RY(weights[8],wires=4)\n",
    "\n",
    "        qml.CZ(wires=[2,3])\n",
    "        qml.CZ(wires=[4,2])\n",
    "\n",
    "        qml.RY(weights[9],wires=0)\n",
    "        qml.RY(weights[10],wires=1)\n",
    "        qml.RY(weights[11],wires=2)\n",
    "        qml.RY(weights[12],wires=3)\n",
    "        qml.RY(weights[13],wires=4)\n",
    "\n",
    "    def four_ansatz(self,weights):\n",
    "\n",
    "        qml.RY(weights[0],wires=0)\n",
    "        qml.RY(weights[1],wires=1)\n",
    "        qml.RY(weights[2],wires=2)\n",
    "\n",
    "        qml.CZ(wires=[0,1])\n",
    "        qml.CZ(wires=[2,0])\n",
    "\n",
    "        qml.RY(weights[3],wires=1)\n",
    "        qml.RY(weights[4],wires=2)\n",
    "        qml.RY(weights[5],wires=3)\n",
    "\n",
    "        qml.CZ(wires=[1,2])\n",
    "        qml.CZ(wires=[3,1])\n",
    "\n",
    "        qml.RY(weights[6],wires=0)\n",
    "        qml.RY(weights[7],wires=1)\n",
    "        qml.RY(weights[8],wires=2)\n",
    "\n",
    "        qml.CZ(wires=[0,1])\n",
    "        qml.CZ(wires=[2,0])\n",
    "\n",
    "        qml.RY(weights[9],wires=0)\n",
    "        qml.RY(weights[10],wires=1)\n",
    "        qml.RY(weights[11],wires=2)\n",
    "        qml.RY(weights[12],wires=3)\n",
    "\n",
    "\n",
    "    def vqls_circuit(self,params):\n",
    "        dev_mu = qml.device(\"default.qubit\", wires=self.tot_qubits)\n",
    "        @qml.qnode(dev_mu)\n",
    "        def local_hadamard_test():\n",
    "            \"\"\"\n",
    "            params=[weights, l, lp, j, part]\n",
    "            \"\"\"\n",
    "            # First Hadamard gate applied to the ancillary qubit.\n",
    "            qml.Hadamard(wires=self.ancilla_idx)\n",
    "\n",
    "            # For estimating the imaginary part of the coefficient \"mu\", we must add a \"-i\"\n",
    "            # phase gate.\n",
    "            if params[4] == \"Im\" or params[4] == \"im\":\n",
    "                qml.PhaseShift(-np.pi / 2, wires=self.ancilla_idx)\n",
    "\n",
    "            # Variational circuit generating a guess for the solution vector |x>\n",
    "            if self.n_qubits==5:\n",
    "                self.five_ansatz(params[0])\n",
    "            elif self.n_qubits==4:\n",
    "                self.four_ansatz(params[0])\n",
    "            elif self.n_qubits==3:\n",
    "                self.three_ansatz(params[0])\n",
    "            else:\n",
    "                self.variational_block(params[0])\n",
    "\n",
    "            # Controlled application of the unitary component A_l of the problem matrix A.\n",
    "            self.A_c(params[1],adjoint=False)\n",
    "\n",
    "            # Adjoint of the unitary U_b associated to the problem vector |b>. \n",
    "            if self.n_qubits>1:\n",
    "                self.U_b_full(adjoint=True)\n",
    "            else:\n",
    "                self.U_b(adjoint=True)\n",
    "\n",
    "            # Controlled Z operator at position j. If j = -1, apply the identity.\n",
    "            if params[3] != -1:\n",
    "                qml.CZ(wires=[self.ancilla_idx, params[3]])\n",
    "\n",
    "            # Unitary U_b associated to the problem vector |b>.\n",
    "            if self.n_qubits>1:\n",
    "                self.U_b_full(adjoint=False)\n",
    "            else:\n",
    "                self.U_b(adjoint=False)\n",
    "\n",
    "            # Controlled application of Adjoint(A_lp).\n",
    "            self.A_c(params[2],adjoint=True)\n",
    "\n",
    "            # Second Hadamard gate applied to the ancillary qubit.\n",
    "            qml.Hadamard(wires=self.ancilla_idx)\n",
    "            \n",
    "            # Expectation value of Z for the ancillary qubit.\n",
    "            return qml.expval(qml.PauliZ(wires=self.ancilla_idx))\n",
    "        \n",
    "        return local_hadamard_test()\n",
    "\n",
    "    def mu(self,weights, l=None, lp=None, j=None):\n",
    "        \"\"\"Generates the coefficients to compute the \"local\" cost function C_L.\"\"\"\n",
    "        re_params=[weights, l, lp, j, \"Re\"]\n",
    "        mu_real = self.vqls_circuit(re_params)\n",
    "        im_params=[weights, l, lp, j, \"Im\"]\n",
    "        mu_imag = self.vqls_circuit(im_params)\n",
    "        return mu_real + 1.0j * mu_imag\n",
    "\n",
    "    def psi_norm(self,c,weights):\n",
    "        \"\"\"Returns the normalization constant <psi|psi>, where |psi> = A |x>.\"\"\"\n",
    "        norm = 0.0\n",
    "\n",
    "        for l in range(0, len(c)):\n",
    "            for lp in range(0, len(c)):\n",
    "                norm = norm + c[l] * np.conj(c[lp]) * self.mu(weights, l, lp, -1)\n",
    "\n",
    "        return abs(norm)\n",
    "\n",
    "    def cost_loc(self,c,weights):\n",
    "        \"\"\"Local version of the cost function. Tends to zero when A|x> is proportional to |b>.\"\"\"\n",
    "        mu_sum = 0.0\n",
    "\n",
    "        for l in range(0, len(c)):\n",
    "            for lp in range(0, len(c)):\n",
    "                for j in range(0, self.n_qubits):\n",
    "                    mu_sum = mu_sum + c[l] * np.conj(c[lp]) * self.mu(weights, l, lp, j)\n",
    "\n",
    "        mu_sum = abs(mu_sum)\n",
    "        \n",
    "        # Cost function C_L\n",
    "        return 0.5 - 0.5 * mu_sum / (self.n_qubits * self.psi_norm(c,weights))\n",
    "\n",
    "    def Sk_coefficients(self,m):\n",
    "        \"\"\"\n",
    "        Finds the coefficients for the VQS 2x2 matrices\n",
    "        input m: 2x2 matrix\n",
    "        output c: coefficients needed to build the matrix Sk by means of quantum circuits\n",
    "        with the function A_c.\n",
    "        \n",
    "        \"\"\"\n",
    "        #let's take the elements from the column of the matrix m\n",
    "        # Sk = | 1 a |\n",
    "        #      | 1 b |\n",
    "        \n",
    "\n",
    "        # Sk = c_0*I + c_1*Pauli_X + c_2*Pauli_Z + c_3*RY(3*pi) \n",
    "        if self.n_qubits!=1:\n",
    "            a=m[0][1]\n",
    "            b=m[1][1]\n",
    "        else:\n",
    "            a=m[1][0]   \n",
    "            b=m[1][1]\n",
    "\n",
    "        c=[]\n",
    "        c.append((b+1)/2)\n",
    "        c.append((a+1)/2)\n",
    "        c.append((1-b)/2)\n",
    "        c.append((a-1)/2)\n",
    "        return np.array(c)\n",
    "\n",
    "    def Sk_coefficients_v2(self,m):\n",
    "        \"\"\"\n",
    "        Finds the coefficients for the GVQS 2x2 matrices\n",
    "\n",
    "        \"\"\"\n",
    "        #let's take the elements from the column of the matrix m\n",
    "        # Sk = | 1-a  a |\n",
    "        #      | 0  1-b |\n",
    "\n",
    "        # Sk = c_0*I + c_1*Pauli_X + c_2*Pauli_Z + c_3*RY(3*pi)\n",
    "\n",
    "        a=m[0][1]  \n",
    "        b=1.- m[1][1]\n",
    "\n",
    "        c=[]\n",
    "        c.append(1.-a/2 -b/2)\n",
    "        c.append(a/2)\n",
    "        c.append((b-a)/2)\n",
    "        c.append(a/2)\n",
    "        return np.array(c)\n",
    "\n",
    "    def full_matrix_coeff(self):\n",
    "        c_list=[]\n",
    "        if self.n_qubits != 1:\n",
    "            for i in range(0,len(self.matrix)-1,1):\n",
    "                c_list.append(self.Sk_coefficients_v2(self.matrix[i:i+2,i:i+2]))\n",
    "            \n",
    "            return [float(item) for sublist in c_list for item in sublist] \n",
    "        else:\n",
    "            return self.Sk_coefficients(self.matrix)\n",
    "\n",
    "    def cost_execution(self,params):\n",
    "        c = self.full_matrix_coeff()\n",
    "        cost = self.cost_loc(c, params)\n",
    "        #print('current solution',self.solution(params,visualize=False))\n",
    "        print(\"Cost at Step {}: {:9.7f}\".format(self.iterations, cost))\n",
    "        self.cost_vals.append(cost)\n",
    "        self.iterations += 1\n",
    "        return cost\n",
    "    \n",
    "\n",
    "    def train(self,max_iter):\n",
    "        #init\n",
    "        np.random.seed(self.rng_seed)\n",
    "        if self.n_qubits==3:\n",
    "            w = np.full(9, -pi, requires_grad=True)\n",
    "        elif self.n_qubits==4:\n",
    "            w = np.full(13, pi/2, requires_grad=True)\n",
    "        else:\n",
    "            w = self.q_delta * np.random.randn(self.n_qubits, requires_grad=True)\n",
    "        #opt\n",
    "        out = minimize(self.cost_execution, x0=w, method=self.opt, options={\"maxiter\": max_iter, \"tol\":0.01})\n",
    "        out_params = out[\"x\"]\n",
    "        print('Final cost function',self.cost_execution(out_params))\n",
    "        print('Number of steps',self.iterations)\n",
    "        return out_params\n",
    "    \n",
    "    def solution(self,params,visualize=False, depth = False):\n",
    "        dev_v = qml.device(\"default.qubit\", wires=self.n_qubits, shots=self.n_shots)\n",
    "        @qml.qnode(dev_v)\n",
    "        def state_vector(weights):\n",
    "            if self.n_qubits==5:\n",
    "                self.five_ansatz(weights)\n",
    "            elif self.n_qubits==4:\n",
    "                self.four_ansatz(weights)\n",
    "            elif self.n_qubits==3:\n",
    "                self.three_ansatz(weights)\n",
    "            else:\n",
    "                self.variational_block(weights)\n",
    "            return qml.state()\n",
    "\n",
    "        if depth:\n",
    "            specs_func = qml.specs(state_vector)\n",
    "            print(specs_func(params)[\"depth\"])\n",
    "\n",
    "        if visualize==True:\n",
    "            print(qml.draw_mpl(state_vector)(params))\n",
    "\n",
    "        return state_vector(params)\n",
    "        \n",
    "    def direct_prod2(self,params,x,visualize=False, depth=False):     \n",
    "        #Variational + Inner Prod Circuit\n",
    "        dev_v = qml.device(\"default.qubit\", wires=self.n_qubits, shots=self.n_shots)\n",
    "        @qml.qnode(dev_v)\n",
    "        def prod(weights,x):\n",
    "            if self.n_qubits==1:\n",
    "                self.variational_block(weights) #variational block to estimate coefficients\n",
    "                qml.adjoint(qml.AmplitudeEmbedding)(x,wires=0,pad_with=1.0) #points encoding\n",
    "\n",
    "            if self.n_qubits==3:\n",
    "                x = x / np.linalg.norm(x)\n",
    "                self.three_ansatz(weights)\n",
    "                qml.adjoint(qml.MottonenStatePreparation)(x,wires=[0,1,2])\n",
    "    \n",
    "            if self.n_qubits==4:\n",
    "                x = x / np.linalg.norm(x)\n",
    "                self.four_ansatz(weights)\n",
    "                qml.adjoint(qml.MottonenStatePreparation)(x,wires=[0,1,2,3])\n",
    "                \n",
    "            if x[1]<0 and self.n_qubits==1:\n",
    "                qml.RZ(pi,wires=0)\n",
    "            return qml.state()\n",
    "        res = prod(params,x)\n",
    "\n",
    "        if depth:\n",
    "            specs_func = qml.specs(prod)\n",
    "            print(specs_func(params,x)[\"depth\"])\n",
    "\n",
    "        #visualization\n",
    "        if visualize:\n",
    "            print('Quantum State',res)\n",
    "            print(qml.draw_mpl(prod)(params,x))\n",
    "        \n",
    "        return res[0].real  \n"
   ]
  },
  {
   "cell_type": "markdown",
   "metadata": {},
   "source": [
    "## asbgn\n"
   ]
  },
  {
   "cell_type": "code",
   "execution_count": 59,
   "metadata": {},
   "outputs": [],
   "source": [
    "vqls_circuit = VQLS(matrix,v_norm,nq,opt='COBYLA') \n",
    "q = vqls_circuit"
   ]
  },
  {
   "cell_type": "code",
   "execution_count": 54,
   "metadata": {},
   "outputs": [],
   "source": [
    "import time\n"
   ]
  },
  {
   "cell_type": "code",
   "execution_count": 5,
   "metadata": {},
   "outputs": [
    {
     "name": "stdout",
     "output_type": "stream",
     "text": [
      "Optimizing variational params..\n",
      "Cost at Step 0: 0.2799293\n",
      "Cost at Step 1: 0.3496848\n",
      "Cost at Step 2: 0.1589452\n",
      "Cost at Step 3: 0.1459276\n",
      "Cost at Step 4: 0.2710335\n",
      "Cost at Step 5: 0.1513351\n",
      "Cost at Step 6: 0.1589452\n",
      "Cost at Step 7: 0.2535817\n",
      "Cost at Step 8: 0.2626693\n",
      "Cost at Step 9: 0.2657590\n",
      "Cost at Step 10: 0.2029781\n",
      "Cost at Step 11: 0.1817060\n",
      "Cost at Step 12: 0.0979922\n",
      "Cost at Step 13: 0.0948654\n",
      "Cost at Step 14: 0.0833932\n",
      "Cost at Step 15: 0.1149387\n",
      "Cost at Step 16: 0.1181935\n",
      "Cost at Step 17: 0.0307651\n",
      "Cost at Step 18: 0.0188111\n",
      "Cost at Step 19: 0.0370660\n",
      "Cost at Step 20: 0.0797841\n",
      "Cost at Step 21: 0.0247096\n",
      "Cost at Step 22: 0.0148778\n",
      "Cost at Step 23: 0.0236019\n",
      "Cost at Step 24: 0.0731019\n",
      "Cost at Step 25: 0.0176081\n",
      "Cost at Step 26: 0.0215019\n",
      "Cost at Step 27: 0.0193778\n",
      "Cost at Step 28: 0.0249038\n",
      "Cost at Step 29: 0.0184801\n",
      "Cost at Step 30: 0.0148778\n",
      "Final cost function 0.014877798075330795\n",
      "Number of steps 31\n",
      "The time of execution of above program is : 5974.625496387482\n",
      "0: ──RY(-3.23)─╭●─╭Z──RY(-3.19)────╭Z──RY(-3.56)─┤  State\n",
      "1: ──RY(-2.76)─╰Z─│───RY(-2.85)─╭●─│───RY(-4.25)─┤  State\n",
      "2: ──RY(-2.11)────╰●──RY(-2.88)─╰Z─╰●──RY(-3.62)─┤  State\n",
      "Quantum coefficients         : [0.08348763+0.j 0.11363697+0.j 0.12454732+0.j 0.18836336+0.j\n",
      " 0.29215869+0.j 0.45045094+0.j 0.48332467+0.j 0.63816783+0.j]\n",
      "Variational Circuit's weights: [-3.2293926  -2.75855658 -2.10655417 -3.19371974 -2.84635409 -2.87749997\n",
      " -3.5634402  -4.25498476 -3.61909815]\n"
     ]
    },
    {
     "name": "stderr",
     "output_type": "stream",
     "text": [
      "d:\\conda\\envs\\res\\lib\\site-packages\\pennylane\\_qubit_device.py:776: UserWarning: Requested state or density matrix with finite shots; the returned state information is analytic and is unaffected by sampling. To silence this warning, set shots=None on the device.\n",
      "  UserWarning,\n"
     ]
    }
   ],
   "source": [
    "vqls_circuit = VQLS(matrix,v_norm,nq,opt='COBYLA') \n",
    "\n",
    "print('Optimizing variational params..')\n",
    "start = time.time()\n",
    "weights = vqls_circuit.train(max_iter=MAX_ITER)  #########################################\n",
    "end = time.time()\n",
    "print(\"The time of execution of above program is :\", end-start)\n",
    "q = vqls_circuit.solution(weights, True)\n",
    "print('Quantum coefficients         :',q)\n",
    "print(\"Variational Circuit's weights:\",weights)\n"
   ]
  },
  {
   "cell_type": "code",
   "execution_count": 60,
   "metadata": {},
   "outputs": [],
   "source": [
    "weights = np.load(\"weights_8.npy\")"
   ]
  },
  {
   "cell_type": "code",
   "execution_count": 61,
   "metadata": {},
   "outputs": [
    {
     "name": "stdout",
     "output_type": "stream",
     "text": [
      "7\n",
      "(<Figure size 720x288 with 1 Axes>, <Axes:>)\n"
     ]
    },
    {
     "name": "stderr",
     "output_type": "stream",
     "text": [
      "d:\\conda\\envs\\res\\lib\\site-packages\\pennylane\\_qubit_device.py:776: UserWarning: Requested state or density matrix with finite shots; the returned state information is analytic and is unaffected by sampling. To silence this warning, set shots=None on the device.\n",
      "  UserWarning,\n"
     ]
    },
    {
     "data": {
      "image/png": "[encoded data removed]",
      "text/plain": [
       "<Figure size 720x288 with 1 Axes>"
      ]
     },
     "metadata": {},
     "output_type": "display_data"
    }
   ],
   "source": [
    "q = vqls_circuit.solution(weights, True, True)\n"
   ]
  },
  {
   "cell_type": "markdown",
   "metadata": {},
   "source": [
    "## aosiegn\n"
   ]
  },
  {
   "cell_type": "code",
   "execution_count": 29,
   "metadata": {},
   "outputs": [
    {
     "name": "stdout",
     "output_type": "stream",
     "text": [
      "beta_classic                 : [ 0.01798621  0.07173906 -0.0502415   0.65973407 -0.0375285   1.14655868\n",
      "  0.7277244   0.98201379]\n",
      "{'gate_sizes': defaultdict(<class 'int'>, {1: 9, 2: 10}), 'gate_types': defaultdict(<class 'int'>, {'RY': 9, 'CZ': 4, 'Adjoint(CNOT)': 6}), 'num_operations': 19, 'num_observables': 1, 'num_diagonalizing_gates': 0, 'num_used_wires': 3, 'depth': 13, 'num_trainable_params': 9, 'num_device_wires': 3, 'device_name': 'default.qubit', 'expansion_strategy': 'gradient', 'gradient_options': {}, 'interface': 'autograd', 'diff_method': 'best', 'gradient_fn': 'pennylane.gradients.parameter_shift.param_shift', 'num_gradient_executions': 'NotSupported: Computing the gradient of circuits that return the state is not supported.'}\n",
      "Quantum State [0.08348763+0.j 0.11363697+0.j 0.12454732+0.j 0.18836336+0.j\n",
      " 0.29215869+0.j 0.45045094+0.j 0.48332467+0.j 0.63816783+0.j]\n"
     ]
    },
    {
     "name": "stderr",
     "output_type": "stream",
     "text": [
      "d:\\conda\\envs\\res\\lib\\site-packages\\pennylane\\_qubit_device.py:776: UserWarning: Requested state or density matrix with finite shots; the returned state information is analytic and is unaffected by sampling. To silence this warning, set shots=None on the device.\n",
      "  UserWarning,\n"
     ]
    },
    {
     "name": "stdout",
     "output_type": "stream",
     "text": [
      "(<Figure size 1152x288 with 1 Axes>, <Axes:>)\n",
      "RSS_q: 2.5298634025126914\n",
      "RSS_h: (0.4566396687307791+0j)\n"
     ]
    },
    {
     "data": {
      "image/png": "[encoded data removed]",
      "text/plain": [
       "<Figure size 1152x288 with 1 Axes>"
      ]
     },
     "metadata": {},
     "output_type": "display_data"
    }
   ],
   "source": [
    "#Classic beta coefficients\n",
    "c = np.linalg.solve(matrix,vector)\n",
    "print('beta_classic                 :',c)\n",
    "y_c=np.dot(matrix,c) #classic\n",
    "\n",
    "\n",
    "y_q=np.dot(matrix,q) #hybrid\n",
    "                     #Quantum\n",
    "y_fq=[]\n",
    "for el in matrix:\n",
    "  y_fq.append(vqls_circuit.direct_prod2(weights,el,visualize=True))\n",
    "  break\n",
    "rss_full = np.sum(np.square(np.array(y_c) - np.array(y_fq)))\n",
    "rss_hybr = np.sum(np.square(np.array(y_c) - np.array(y_q)))\n",
    "\n",
    "print('RSS_q:',rss_full)\n",
    "print('RSS_h:',rss_hybr)\n",
    "\n"
   ]
  },
  {
   "cell_type": "code",
   "execution_count": 17,
   "metadata": {},
   "outputs": [
    {
     "data": {
      "text/plain": [
       "8"
      ]
     },
     "execution_count": 17,
     "metadata": {},
     "output_type": "execute_result"
    }
   ],
   "source": [
    "len(y_fq)"
   ]
  },
  {
   "cell_type": "code",
   "execution_count": 19,
   "metadata": {},
   "outputs": [
    {
     "name": "stderr",
     "output_type": "stream",
     "text": [
      "d:\\conda\\envs\\res\\lib\\site-packages\\matplotlib\\collections.py:200: ComplexWarning: Casting complex values to real discards the imaginary part\n",
      "  offsets = np.asanyarray(offsets, float)\n"
     ]
    },
    {
     "data": {
      "text/plain": [
       "<matplotlib.legend.Legend at 0x2587b820b48>"
      ]
     },
     "execution_count": 19,
     "metadata": {},
     "output_type": "execute_result"
    },
    {
     "data": {
      "image/png": "[encoded data removed]",
      "text/plain": [
       "<Figure size 432x288 with 1 Axes>"
      ]
     },
     "metadata": {
      "needs_background": "light"
     },
     "output_type": "display_data"
    }
   ],
   "source": [
    "plt.scatter(range(len(y_fq)),y_q,label= \"hybrid\")\n",
    "plt.scatter(range(len(y_fq)),y_fq, label=\"full_quantum\")\n",
    "plt.scatter(range(len(y_fq)),y_c, label=\"classical\")\n",
    "plt.plot(y)\n",
    "plt.legend()"
   ]
  }
 ],
 "metadata": {
  "kernelspec": {
   "display_name": "Python 3.7.13 ('res')",
   "language": "python",
   "name": "python3"
  },
  "language_info": {
   "codemirror_mode": {
    "name": "ipython",
    "version": 3
   },
   "file_extension": ".py",
   "mimetype": "text/x-python",
   "name": "python",
   "nbconvert_exporter": "python",
   "pygments_lexer": "ipython3",
   "version": "3.7.13"
  },
  "orig_nbformat": 4,
  "vscode": {
   "interpreter": {
    "hash": "7650257707f3238d5df88771c66da47b78c5077cb779498608c81dcf9deec5b5"
   }
  }
 },
 "nbformat": 4,
 "nbformat_minor": 2
}
