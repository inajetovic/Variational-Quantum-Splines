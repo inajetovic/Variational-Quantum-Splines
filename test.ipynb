{
 "cells": [
  {
   "cell_type": "code",
   "execution_count": 1,
   "metadata": {},
   "outputs": [],
   "source": [
    "from vqls import *\n",
    "from utils import *\n"
   ]
  },
  {
   "cell_type": "code",
   "execution_count": 2,
   "metadata": {},
   "outputs": [
    {
     "name": "stdout",
     "output_type": "stream",
     "text": [
      "T dim 10\n",
      "x_dim 9\n"
     ]
    },
    {
     "data": {
      "image/png": "[encoded data removed]",
      "text/plain": [
       "<Figure size 432x288 with 2 Axes>"
      ]
     },
     "metadata": {
      "needs_background": "light"
     },
     "output_type": "display_data"
    },
    {
     "data": {
      "image/png": "[encoded data removed]",
      "text/plain": [
       "<Figure size 432x288 with 1 Axes>"
      ]
     },
     "metadata": {
      "needs_background": "light"
     },
     "output_type": "display_data"
    },
    {
     "name": "stdout",
     "output_type": "stream",
     "text": [
      "Condition number\n",
      " 62.475138845718426\n",
      "norm(yk) 1.77256959808715\n"
     ]
    }
   ],
   "source": [
    "lower = 0.\n",
    "upper = 1. \n",
    "n_step = 8\n",
    "f_i = 0.0  \n",
    "MAX_ITER = 30\n",
    "\n",
    "nq=3\n",
    "# K = 2^n = dim(T)-2\n",
    "# with dim(S) = KxK\n",
    "# n = num qubits\n",
    "# T = set of knots\n",
    "\n",
    "scaled=False\n",
    "\n",
    "label = 'sigmoid'\n",
    "func = sigmoid_t\n",
    "\n",
    "\n",
    "x = np.arange(lower, upper + .03, (upper-lower)/n_step).tolist() \n",
    "xx = np.linspace(lower, upper, n_step) ##inputs sampling in the interval 0,1\n",
    "y = [func(value,f_i) for value in x]\n",
    "\n",
    "if scaled:\n",
    "  norm = np.linalg.norm(y)\n",
    "  y = y / norm\n",
    "tck=splrep(x,y,k=1) #coeffs\n",
    "#plt.scatter(range(len(tck[1])),tck[0], label = \"scipy knots\")\n",
    "\n",
    "\n",
    "#############################################################################################\n",
    "###################################### System Preparation ###################################\n",
    "#############################################################################################\n",
    "\n",
    "matrix,vector,v_norm = GeneralizedVQS_System(n_step,label,x,xx,scaled=scaled);\n",
    "\n",
    "import seaborn as sns\n",
    "\n",
    "sns.heatmap(matrix)\n",
    "plt.show()\n",
    "plt.plot(y)\n",
    "\n",
    "plt.scatter(range(len(vector)), vector, label=\"vector\")\n",
    "plt.scatter(range(len(tck[1])),tck[1], label=\"scipy coefs\")\n",
    "plt.scatter(range(len(v_norm)), v_norm, label=\"v_norm\")\n",
    "plt.legend()\n",
    "plt.show()\n",
    "#############################################################################################\n",
    "################################# VQLS and Linear Prob. Solving #############################\n",
    "#############################################################################################\n",
    "\n",
    "k_numb=np.linalg.cond(np.array(matrix))\n",
    "print('Condition number\\n',k_numb)\n",
    "print('norm(yk)',np.linalg.norm(vector))\n",
    "\n",
    "\n"
   ]
  },
  {
   "cell_type": "code",
   "execution_count": 3,
   "metadata": {},
   "outputs": [],
   "source": [
    "vqls_circuit = VQLS(matrix,v_norm,nq,opt='COBYLA') \n",
    "q = vqls_circuit"
   ]
  },
  {
   "cell_type": "code",
   "execution_count": 4,
   "metadata": {},
   "outputs": [],
   "source": [
    "import time\n"
   ]
  },
  {
   "cell_type": "code",
   "execution_count": 5,
   "metadata": {},
   "outputs": [
    {
     "name": "stdout",
     "output_type": "stream",
     "text": [
      "Optimizing variational params..\n",
      "Cost at Step 0: 0.2799293\n",
      "Cost at Step 1: 0.3496848\n",
      "Cost at Step 2: 0.1589452\n",
      "Cost at Step 3: 0.1459276\n",
      "Cost at Step 4: 0.2710335\n",
      "Cost at Step 5: 0.1513351\n",
      "Cost at Step 6: 0.1589452\n",
      "Cost at Step 7: 0.2535817\n",
      "Cost at Step 8: 0.2626693\n",
      "Cost at Step 9: 0.2657590\n",
      "Cost at Step 10: 0.2029781\n",
      "Cost at Step 11: 0.1817060\n",
      "Cost at Step 12: 0.0979922\n",
      "Cost at Step 13: 0.0948654\n",
      "Cost at Step 14: 0.0833932\n",
      "Cost at Step 15: 0.1149387\n",
      "Cost at Step 16: 0.1181935\n",
      "Cost at Step 17: 0.0307651\n",
      "Cost at Step 18: 0.0188111\n",
      "Cost at Step 19: 0.0370660\n",
      "Cost at Step 20: 0.0797841\n",
      "Cost at Step 21: 0.0247096\n",
      "Cost at Step 22: 0.0148778\n",
      "Cost at Step 23: 0.0236019\n",
      "Cost at Step 24: 0.0731019\n",
      "Cost at Step 25: 0.0176081\n",
      "Cost at Step 26: 0.0215019\n",
      "Cost at Step 27: 0.0193778\n",
      "Cost at Step 28: 0.0249038\n",
      "Cost at Step 29: 0.0184801\n",
      "Cost at Step 30: 0.0148778\n",
      "Final cost function 0.014877798075330795\n",
      "Number of steps 31\n",
      "The time of execution of above program is : 5974.625496387482\n",
      "0: ──RY(-3.23)─╭●─╭Z──RY(-3.19)────╭Z──RY(-3.56)─┤  State\n",
      "1: ──RY(-2.76)─╰Z─│───RY(-2.85)─╭●─│───RY(-4.25)─┤  State\n",
      "2: ──RY(-2.11)────╰●──RY(-2.88)─╰Z─╰●──RY(-3.62)─┤  State\n",
      "Quantum coefficients         : [0.08348763+0.j 0.11363697+0.j 0.12454732+0.j 0.18836336+0.j\n",
      " 0.29215869+0.j 0.45045094+0.j 0.48332467+0.j 0.63816783+0.j]\n",
      "Variational Circuit's weights: [-3.2293926  -2.75855658 -2.10655417 -3.19371974 -2.84635409 -2.87749997\n",
      " -3.5634402  -4.25498476 -3.61909815]\n"
     ]
    },
    {
     "name": "stderr",
     "output_type": "stream",
     "text": [
      "d:\\conda\\envs\\res\\lib\\site-packages\\pennylane\\_qubit_device.py:776: UserWarning: Requested state or density matrix with finite shots; the returned state information is analytic and is unaffected by sampling. To silence this warning, set shots=None on the device.\n",
      "  UserWarning,\n"
     ]
    }
   ],
   "source": [
    "vqls_circuit = VQLS(matrix,v_norm,nq,opt='COBYLA') \n",
    "\n",
    "print('Optimizing variational params..')\n",
    "start = time.time()\n",
    "weights = vqls_circuit.train(max_iter=MAX_ITER)  #########################################\n",
    "end = time.time()\n",
    "print(\"The time of execution of above program is :\", end-start)\n",
    "q = vqls_circuit.solution(weights, True)\n",
    "print('Quantum coefficients         :',q)\n",
    "print(\"Variational Circuit's weights:\",weights)\n"
   ]
  },
  {
   "cell_type": "code",
   "execution_count": 5,
   "metadata": {},
   "outputs": [],
   "source": [
    "weights = np.load(\"weights.npy\")"
   ]
  },
  {
   "cell_type": "code",
   "execution_count": 6,
   "metadata": {},
   "outputs": [
    {
     "name": "stdout",
     "output_type": "stream",
     "text": [
      "0: ──RY(-3.23)─╭●─╭Z──RY(-3.19)────╭Z──RY(-3.56)─┤  State\n",
      "1: ──RY(-2.76)─╰Z─│───RY(-2.85)─╭●─│───RY(-4.25)─┤  State\n",
      "2: ──RY(-2.11)────╰●──RY(-2.88)─╰Z─╰●──RY(-3.62)─┤  State\n"
     ]
    },
    {
     "name": "stderr",
     "output_type": "stream",
     "text": [
      "d:\\conda\\envs\\res\\lib\\site-packages\\pennylane\\_qubit_device.py:776: UserWarning: Requested state or density matrix with finite shots; the returned state information is analytic and is unaffected by sampling. To silence this warning, set shots=None on the device.\n",
      "  UserWarning,\n"
     ]
    }
   ],
   "source": [
    "q = vqls_circuit.solution(weights, True)\n"
   ]
  },
  {
   "cell_type": "code",
   "execution_count": 9,
   "metadata": {},
   "outputs": [
    {
     "name": "stdout",
     "output_type": "stream",
     "text": [
      "beta_classic                 : [ 0.01798621  0.07173906 -0.0502415   0.65973407 -0.0375285   1.14655868\n",
      "  0.7277244   0.98201379]\n",
      "RSS_q: 0.25121773154055604\n",
      "RSS_h: (0.4566396687307791+0j)\n"
     ]
    }
   ],
   "source": [
    "#Classic beta coefficients\n",
    "c = np.linalg.solve(matrix,vector)\n",
    "print('beta_classic                 :',c)\n",
    "y_c=np.dot(matrix,c) #classic\n",
    "\n",
    "\n",
    "y_q=np.dot(matrix,q) #hybrid\n",
    "                     #Quantum\n",
    "y_fq=[]\n",
    "for el in matrix:\n",
    "  y_fq.append(vqls_circuit.direct_prod2(weights,el,visualize=False))\n",
    "  \n",
    "rss_full = np.sum(np.square(np.array(y_c) - np.array(y_fq)))\n",
    "rss_hybr = np.sum(np.square(np.array(y_c) - np.array(y_q)))\n",
    "\n",
    "print('RSS_q:',rss_full)\n",
    "print('RSS_h:',rss_hybr)\n",
    "\n"
   ]
  },
  {
   "cell_type": "markdown",
   "metadata": {},
   "source": []
  },
  {
   "cell_type": "code",
   "execution_count": 17,
   "metadata": {},
   "outputs": [
    {
     "data": {
      "text/plain": [
       "8"
      ]
     },
     "execution_count": 17,
     "metadata": {},
     "output_type": "execute_result"
    }
   ],
   "source": [
    "len(y_fq)"
   ]
  },
  {
   "cell_type": "code",
   "execution_count": 19,
   "metadata": {},
   "outputs": [
    {
     "name": "stderr",
     "output_type": "stream",
     "text": [
      "d:\\conda\\envs\\res\\lib\\site-packages\\matplotlib\\collections.py:200: ComplexWarning: Casting complex values to real discards the imaginary part\n",
      "  offsets = np.asanyarray(offsets, float)\n"
     ]
    },
    {
     "data": {
      "text/plain": [
       "<matplotlib.legend.Legend at 0x2587b820b48>"
      ]
     },
     "execution_count": 19,
     "metadata": {},
     "output_type": "execute_result"
    },
    {
     "data": {
      "image/png": "[encoded data removed]",
      "text/plain": [
       "<Figure size 432x288 with 1 Axes>"
      ]
     },
     "metadata": {
      "needs_background": "light"
     },
     "output_type": "display_data"
    }
   ],
   "source": [
    "plt.scatter(range(len(y_fq)),y_q,label= \"hybrid\")\n",
    "plt.scatter(range(len(y_fq)),y_fq, label=\"full_quantum\")\n",
    "plt.scatter(range(len(y_fq)),y_c, label=\"classical\")\n",
    "plt.plot(y)\n",
    "plt.legend()"
   ]
  }
 ],
 "metadata": {
  "kernelspec": {
   "display_name": "Python 3.7.13 ('res')",
   "language": "python",
   "name": "python3"
  },
  "language_info": {
   "codemirror_mode": {
    "name": "ipython",
    "version": 3
   },
   "file_extension": ".py",
   "mimetype": "text/x-python",
   "name": "python",
   "nbconvert_exporter": "python",
   "pygments_lexer": "ipython3",
   "version": "3.7.13"
  },
  "orig_nbformat": 4,
  "vscode": {
   "interpreter": {
    "hash": "7650257707f3238d5df88771c66da47b78c5077cb779498608c81dcf9deec5b5"
   }
  }
 },
 "nbformat": 4,
 "nbformat_minor": 2
}
