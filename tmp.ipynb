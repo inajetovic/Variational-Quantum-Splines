{
 "cells": [
  {
   "cell_type": "code",
   "execution_count": 1,
   "metadata": {},
   "outputs": [],
   "source": [
    "import matplotlib.pyplot as plt\n",
    "import seaborn as sns\n",
    "import pandas as pd\n",
    "import numpy as np \n",
    "from vqls import *\n",
    "from utils import *\n"
   ]
  },
  {
   "cell_type": "code",
   "execution_count": 42,
   "metadata": {},
   "outputs": [],
   "source": [
    "func_out = {'sigmoid': sigmoid_t,'tanh': tanh_t,'elu': elu_t, 'relu': relu_t, 'sin':sin_m}\n",
    "func_list = list(func_out.keys())\n",
    "func_dict = {'sigmoid': .0,'tanh': 1.0,'elu':.12, 'relu':.0, 'sin':.0}\n",
    "\n",
    "pnq = {'3':(3,8),\n",
    "        '4':(4,16)}\n",
    "columns=['function', 'nq', 'knot', 'training cost', 'time(s)', 'weights', 'RSS_h', 'RSS_q' ]\n",
    "tot = {}\n",
    "for flab, fun in func_out.items():\n",
    "    for nq, knot in  pnq.values():\n",
    "        file_path = f\"results_{flab}_{nq}.json\"\n",
    "        df = pd.read_json(file_path).drop(['Condition number', 'norm(yk)', 'training_cost', 'exe_time','RSS_h'], axis =1 )\n",
    "        tmp = []\n",
    "        for el in df[\"in_train_weights\"]:\n",
    "             tmp.append(el[-1])\n",
    "        df[\"weights\"] = tmp\n",
    "        df = df.drop([\"in_train_weights\"], axis = 1)\n",
    "        tot[f\"{flab}{nq}\"] = df "
   ]
  },
  {
   "cell_type": "code",
   "execution_count": null,
   "metadata": {},
   "outputs": [],
   "source": [
    "f_i = func_dict[flab]\n",
    "scaled=False    \n",
    "label = flab\n",
    "n_step = pnq[f\"{nq}\"][1]\n",
    "x = np.arange(lower, upper + .03, (upper-lower)/n_step).tolist() \n",
    "xx = np.linspace(lower, upper, n_step) ##inputs sampling in the interval 0,1\n",
    "y = [fun(value,f_i) for value in xx]\n",
    "\n",
    "#tck=splrep(x,y,k=1) #coeffs\n",
    "norm = np.linalg.norm(y)\n",
    "y = y / norm\n",
    "matrix,vector,v_norm = GeneralizedVQS_System(n_step,label,x,xx,scaled=scaled)\n"
   ]
  },
  {
   "cell_type": "code",
   "execution_count": 58,
   "metadata": {},
   "outputs": [
    {
     "name": "stdout",
     "output_type": "stream",
     "text": [
      "       RSS_q  seed                                            weights  \\\n",
      "0   3.963544     2  [1.1045460402, 0.2563744746, 2.6760913795, 3.0...   \n",
      "1   9.433116    27  [2.5609036114, 3.5482101222, 2.8214924623, 4.0...   \n",
      "2   9.426826    70  [3.1358322811, 2.4786085119, 1.818483076600000...   \n",
      "3   0.276599    52  [2.5513045036, 0.38891200810000004, -0.1988019...   \n",
      "4   4.145746    22  [1.9330162929, 2.906664333, 2.5177229883, 1.83...   \n",
      "5   9.409706    72  [-0.17701141920000002, 2.6813918672, 2.2805960...   \n",
      "6   3.943581    60  [2.7270898732, 0.8555839589, 2.164968563, 2.13...   \n",
      "7   4.357991     7  [-0.4807136286, 3.7600193766, 2.1539283566, 2....   \n",
      "8   3.975778    67  [1.2831687393, 2.8376809003, 2.4117972213, 1.3...   \n",
      "9   4.098747     1  [3.1298330457, 4.4322975341, 1.0925061653, 0.1...   \n",
      "10  3.987636    54  [0.7810533275, 3.4293212531, 0.025856068200000...   \n",
      "11  0.275849    89  [2.8564677766, 0.9024321844000001, -0.23085810...   \n",
      "12  0.268566    28  [2.7451074065, 2.6239581654, 0.002763550600000...   \n",
      "13  3.949084    20  [1.45372452, 2.3520194666, 1.8606473103, 1.617...   \n",
      "14  4.165525     4  [2.9657122095, 1.6830055239, 2.9338663322, 1.8...   \n",
      "15  4.205331     0  [3.1271809222, 4.0345492983, 1.9441580193, 1.9...   \n",
      "16  9.446836    51  [2.7667663272, -0.4881779222, 2.4394744491, 4....   \n",
      "17  3.945904    81  [2.2092847628, 0.7060199077, 4.3027805226, 4.7...   \n",
      "18  3.961218    78  [2.5089744256, 2.7732363168000003, 2.883736617...   \n",
      "19  4.137898    42  [1.041546615, 2.9099411757, 2.6340863336, 1.70...   \n",
      "20  4.145746    22  [1.9330162929, 2.906664333, 2.5177229883, 1.83...   \n",
      "21  9.421849     5  [2.1292555829, 2.8664714828999998, 0.385661678...   \n",
      "22  0.275371    44  [5.2559024949, 0.2465850792, 2.9675163005, 0.2...   \n",
      "23  3.898131     9  [-0.19414139300000002, 1.385524625, 0.29128391...   \n",
      "24  9.446836    51  [2.7667663272, -0.4881779222, 2.4394744491, 4....   \n",
      "\n",
      "    rmse_scal   rmse_yc  \n",
      "0    0.486417  0.703877  \n",
      "1    0.813570  1.085882  \n",
      "2    0.813036  1.085520  \n",
      "3    0.127012  0.185943  \n",
      "4    0.498795  0.719874  \n",
      "5    0.812046  1.084534  \n",
      "6    0.484533  0.702102  \n",
      "7    0.514150  0.738071  \n",
      "8    0.487229  0.704963  \n",
      "9    0.495342  0.715782  \n",
      "10   0.488134  0.706013  \n",
      "11   0.127101  0.185691  \n",
      "12   0.125112  0.183223  \n",
      "13   0.485328  0.702592  \n",
      "14   0.501061  0.721589  \n",
      "15   0.503366  0.725029  \n",
      "16   0.814103  1.086671  \n",
      "17   0.485026  0.702309  \n",
      "18   0.486268  0.703671  \n",
      "19   0.498592  0.719192  \n",
      "20   0.498795  0.719874  \n",
      "21   0.812988  1.085233  \n",
      "22   0.127392  0.185530  \n",
      "23   0.482082  0.698045  \n",
      "24   0.814103  1.086671  \n"
     ]
    }
   ],
   "source": [
    "rss=[]\n",
    "for flab, fun in func_out.items():\n",
    "    for nq in [3,4]:\n",
    "        dl = tot[f\"{flab}{nq}\"]\n",
    "        rmse_scal = []\n",
    "        rmse_yc = []\n",
    "        for i, el in dl.iterrows():\n",
    "            \n",
    "            lower = 0.\n",
    "            upper = 1.\n",
    "\n",
    "            f_i = func_dict[flab]\n",
    "            scaled=False    \n",
    "            label = flab\n",
    "            n_step = pnq[f\"{nq}\"][1]\n",
    "            x = np.arange(lower, upper + .03, (upper-lower)/n_step).tolist() \n",
    "            xx = np.linspace(lower, upper, n_step) ##inputs sampling in the interval 0,1\n",
    "            y = [fun(value,f_i) for value in xx]\n",
    "\n",
    "            #tck=splrep(x,y,k=1) #coeffs\n",
    "            norm = np.linalg.norm(y)\n",
    "            y = y / norm\n",
    "            matrix,vector,v_norm = GeneralizedVQS_System(n_step,label,x,xx,scaled=scaled)\n",
    "\n",
    "            vqls_circuit = VQLS(matrix,v_norm,nq,opt='COBYLA') \n",
    "\n",
    "            c = np.linalg.solve(matrix,vector)\n",
    "\n",
    "            y_c=np.dot(matrix,c) #classic\n",
    "\n",
    "            y_fq=[]\n",
    "            q = vqls_circuit.solution(el['weights']).real\n",
    "            y_q=np.dot(matrix,q) #hybrid\n",
    "                            #Quantum\n",
    "\n",
    "            for a in matrix:\n",
    "                y_fq.append(vqls_circuit.direct_prod2(el['weights'],a))\n",
    "            rmse_yc.append(math.sqrt(np.square(np.subtract(y_c,y_fq)).mean()))\n",
    "            rmse_scal.append(math.sqrt(np.square(np.subtract(y,y_fq)).mean()))\n",
    "        dl[\"rmse_scal\"] = rmse_scal\n",
    "        dl[\"rmse_yc\"] = rmse_yc\n"
   ]
  },
  {
   "cell_type": "code",
   "execution_count": 60,
   "metadata": {},
   "outputs": [
    {
     "name": "stdout",
     "output_type": "stream",
     "text": [
      "|      |   rmse_yc |   rmse_scal |\n",
      "|:-----|----------:|------------:|\n",
      "| (0,) |  0.30803  |   0.0776852 |\n",
      "| (4,) |  0.308428 |   0.0780663 |\n",
      "| (7,) |  0.309383 |   0.0781614 |\n",
      "| (2,) |  0.660615 |   0.345134  |\n",
      "| (1,) |  0.671942 |   0.353697  |\n",
      "| (3,) |  0.936407 |   0.565645  |\n",
      "| (5,) |  0.93789  |   0.567159  |\n",
      "| (6,) |  0.938195 |   0.567497  |\n"
     ]
    }
   ],
   "source": [
    "dk= tot[\"sigmoid4\"]\n",
    "#dk['RSS_q'] = dk['RSS_q']/dk['knot']\n",
    "print(dk.pivot( columns = [], values=['rmse_yc','rmse_scal']).sort_values([\"rmse_yc\"]).to_markdown())"
   ]
  },
  {
   "cell_type": "code",
   "execution_count": 8,
   "metadata": {},
   "outputs": [],
   "source": [
    "flab = 'relu'\n",
    "fun = relu_t\n",
    "lower = 0. \n",
    "upper = 1. \n",
    "f_i = func_dict[flab]\n",
    "scaled=False    \n",
    "label = flab\n",
    "n_step = el.knot\n",
    "x = np.arange(lower, upper + .03, (upper-lower)/n_step).tolist() \n",
    "xx = np.linspace(lower, upper, n_step) ##inputs sampling in the interval 0,1\n",
    "y = [fun(value,f_i) for value in x]\n",
    "\n",
    "tck=splrep(x,y,k=1) #coeffs\n",
    "norm = np.linalg.norm(y)\n",
    "y = y / norm\n",
    "ax[i].plot(np.linspace(0,1,len(y)),y, label=f\"Original function scaled {n_step}\", color = '#5c4d7d',linewidth=2.5)\n",
    "\n",
    "ax[i].axhline(0, color=\"#222222\")\n",
    "matrix,vector,v_norm = GeneralizedVQS_System(n_step,label,x,xx,scaled=scaled)\n",
    "\n",
    "vqls_circuit = VQLS(matrix,v_norm,el['nq'],opt='COBYLA') \n",
    "\n",
    "c = np.linalg.solve(matrix,vector)\n",
    "\n",
    "y_c=np.dot(matrix,c) #classic\n",
    "ax[i].plot(np.linspace(0,1,len(y_c)),y_c, label=\"classical spline\", color = '#1780a1',linewidth=2.5)\n",
    "\n",
    "y_fq=[]\n",
    "q = vqls_circuit.solution(el['weights']).real\n",
    "y_q=np.dot(matrix,q) #hybrid\n",
    "                #Quantum\n",
    "\n",
    "for a in matrix:\n",
    "    y_fq.append(vqls_circuit.direct_prod2(el['weights'],a))\n",
    "rss.append(math.sqrt(np.square(np.subtract(y_c,y_fq)).mean()))\n"
   ]
  },
  {
   "cell_type": "code",
   "execution_count": 9,
   "metadata": {},
   "outputs": [
    {
     "data": {
      "text/plain": [
       "[tensor(-0.24159205, requires_grad=True),\n",
       " tensor(-0.27983433, requires_grad=True),\n",
       " tensor(-0.4385123, requires_grad=True),\n",
       " tensor(-0.47483765, requires_grad=True),\n",
       " tensor(-0.51361569, requires_grad=True),\n",
       " tensor(-0.49873931, requires_grad=True),\n",
       " tensor(-0.40872349, requires_grad=True),\n",
       " tensor(-0.30831969, requires_grad=True),\n",
       " tensor(-0.15331156, requires_grad=True),\n",
       " tensor(-0.07351244, requires_grad=True),\n",
       " tensor(-0.01786041, requires_grad=True),\n",
       " tensor(-0.0303805, requires_grad=True),\n",
       " tensor(-0.03717123, requires_grad=True),\n",
       " tensor(-0.15253645, requires_grad=True),\n",
       " tensor(-0.16465614, requires_grad=True),\n",
       " tensor(-0.15439434, requires_grad=True)]"
      ]
     },
     "execution_count": 9,
     "metadata": {},
     "output_type": "execute_result"
    }
   ],
   "source": [
    "y_fq"
   ]
  }
 ],
 "metadata": {
  "kernelspec": {
   "display_name": "Python 3.8.15 ('phd')",
   "language": "python",
   "name": "python3"
  },
  "language_info": {
   "codemirror_mode": {
    "name": "ipython",
    "version": 3
   },
   "file_extension": ".py",
   "mimetype": "text/x-python",
   "name": "python",
   "nbconvert_exporter": "python",
   "pygments_lexer": "ipython3",
   "version": "3.8.15"
  },
  "orig_nbformat": 4,
  "vscode": {
   "interpreter": {
    "hash": "907592e22d0f33952c262e5486f28a29c9de9426e750b7b468fd79b101dfb94f"
   }
  }
 },
 "nbformat": 4,
 "nbformat_minor": 2
}
